{
  "nbformat": 4,
  "nbformat_minor": 0,
  "metadata": {
    "colab": {
      "provenance": [],
      "authorship_tag": "ABX9TyOADVxqu8Kcd9CNhKBRn3zJ",
      "include_colab_link": true
    },
    "kernelspec": {
      "name": "python3",
      "display_name": "Python 3"
    },
    "language_info": {
      "name": "python"
    }
  },
  "cells": [
    {
      "cell_type": "markdown",
      "metadata": {
        "id": "view-in-github",
        "colab_type": "text"
      },
      "source": [
        "<a href=\"https://colab.research.google.com/github/alisoufali/programming_with_python/blob/main/codes/Python_Bootcamp_Session_4.ipynb\" target=\"_parent\"><img src=\"https://colab.research.google.com/assets/colab-badge.svg\" alt=\"Open In Colab\"/></a>"
      ]
    },
    {
      "cell_type": "markdown",
      "source": [
        "## Dictionaries"
      ],
      "metadata": {
        "id": "bEyS6jXoJ5jl"
      }
    },
    {
      "cell_type": "code",
      "execution_count": null,
      "metadata": {
        "id": "CCJMSDN2HXkA"
      },
      "outputs": [],
      "source": [
        "a = {\"name\": \"Ali\", \"age\": 26, \"job\": \"data-scientist\"}"
      ]
    },
    {
      "cell_type": "code",
      "source": [
        "a[\"name\"]"
      ],
      "metadata": {
        "colab": {
          "base_uri": "https://localhost:8080/",
          "height": 35
        },
        "id": "Hq8JNJ0oKDSL",
        "outputId": "0eaf2988-faad-4d56-9668-39fddeae355a"
      },
      "execution_count": null,
      "outputs": [
        {
          "output_type": "execute_result",
          "data": {
            "text/plain": [
              "'Ali'"
            ],
            "application/vnd.google.colaboratory.intrinsic+json": {
              "type": "string"
            }
          },
          "metadata": {},
          "execution_count": 2
        }
      ]
    },
    {
      "cell_type": "code",
      "source": [
        "a[\"age\"]"
      ],
      "metadata": {
        "colab": {
          "base_uri": "https://localhost:8080/"
        },
        "id": "KYtZmr5aKEtX",
        "outputId": "a94c66ab-3b71-454a-9820-0b5f86aa78e8"
      },
      "execution_count": null,
      "outputs": [
        {
          "output_type": "execute_result",
          "data": {
            "text/plain": [
              "26"
            ]
          },
          "metadata": {},
          "execution_count": 3
        }
      ]
    },
    {
      "cell_type": "code",
      "source": [
        "a = {\"name\": \"Ahmad\", \"age\": 26, \"job\": \"data-scientist\"}"
      ],
      "metadata": {
        "id": "vmDl0CzbKG2y"
      },
      "execution_count": null,
      "outputs": []
    },
    {
      "cell_type": "code",
      "source": [
        "b = a.copy()"
      ],
      "metadata": {
        "id": "eX2AL4rtKqZM"
      },
      "execution_count": null,
      "outputs": []
    },
    {
      "cell_type": "code",
      "source": [
        "b"
      ],
      "metadata": {
        "colab": {
          "base_uri": "https://localhost:8080/"
        },
        "id": "apOdEG89KtDm",
        "outputId": "34a3f95b-8d05-4fc4-9def-f23cc6cefc05"
      },
      "execution_count": null,
      "outputs": [
        {
          "output_type": "execute_result",
          "data": {
            "text/plain": [
              "{'name': 'Ahmad', 'age': 26, 'job': 'data-scientist'}"
            ]
          },
          "metadata": {},
          "execution_count": 21
        }
      ]
    },
    {
      "cell_type": "code",
      "source": [
        "a"
      ],
      "metadata": {
        "colab": {
          "base_uri": "https://localhost:8080/"
        },
        "id": "fJ0aCCAKMQEm",
        "outputId": "e8d085b3-365d-438d-cbfc-53371d27e933"
      },
      "execution_count": null,
      "outputs": [
        {
          "output_type": "execute_result",
          "data": {
            "text/plain": [
              "{'name': 'Ahmad', 'age': 26, 'job': 'data-scientist'}"
            ]
          },
          "metadata": {},
          "execution_count": 22
        }
      ]
    },
    {
      "cell_type": "code",
      "source": [
        "b[\"name\"] = \"Ali\""
      ],
      "metadata": {
        "id": "L4L9q_2xMQQj"
      },
      "execution_count": null,
      "outputs": []
    },
    {
      "cell_type": "code",
      "source": [
        "b"
      ],
      "metadata": {
        "colab": {
          "base_uri": "https://localhost:8080/"
        },
        "id": "jhtc0TRFMS1w",
        "outputId": "4926bec0-20b1-407f-fff7-c10ddfdbec37"
      },
      "execution_count": null,
      "outputs": [
        {
          "output_type": "execute_result",
          "data": {
            "text/plain": [
              "{'name': 'Ali', 'age': 26, 'job': 'data-scientist'}"
            ]
          },
          "metadata": {},
          "execution_count": 24
        }
      ]
    },
    {
      "cell_type": "code",
      "source": [
        "a"
      ],
      "metadata": {
        "colab": {
          "base_uri": "https://localhost:8080/"
        },
        "id": "_lXN8vGdMTLT",
        "outputId": "9855b89b-3cde-4152-ae89-0fbc98055e79"
      },
      "execution_count": null,
      "outputs": [
        {
          "output_type": "execute_result",
          "data": {
            "text/plain": [
              "{'name': 'Ahmad', 'age': 26, 'job': 'data-scientist'}"
            ]
          },
          "metadata": {},
          "execution_count": 25
        }
      ]
    },
    {
      "cell_type": "code",
      "source": [
        "a = [1, 2, 3]"
      ],
      "metadata": {
        "id": "Mv5TEafBMTmu"
      },
      "execution_count": null,
      "outputs": []
    },
    {
      "cell_type": "code",
      "source": [
        "for value in a:\n",
        "    print(value)"
      ],
      "metadata": {
        "colab": {
          "base_uri": "https://localhost:8080/"
        },
        "id": "SO5LJTg0M0EV",
        "outputId": "063a3423-efb8-41ac-f962-a92c2367c87b"
      },
      "execution_count": null,
      "outputs": [
        {
          "output_type": "stream",
          "name": "stdout",
          "text": [
            "1\n",
            "2\n",
            "3\n"
          ]
        }
      ]
    },
    {
      "cell_type": "code",
      "source": [
        "summation = 0\n",
        "\n",
        "for index in range(3):\n",
        "    summation = summation + 1"
      ],
      "metadata": {
        "id": "EdOZmVjMM2S1"
      },
      "execution_count": null,
      "outputs": []
    },
    {
      "cell_type": "code",
      "source": [
        "summation"
      ],
      "metadata": {
        "colab": {
          "base_uri": "https://localhost:8080/"
        },
        "id": "-rd107i8M-Fo",
        "outputId": "cb007eb2-86d6-4807-a9ff-a13079e66ffa"
      },
      "execution_count": null,
      "outputs": [
        {
          "output_type": "execute_result",
          "data": {
            "text/plain": [
              "3"
            ]
          },
          "metadata": {},
          "execution_count": 30
        }
      ]
    },
    {
      "cell_type": "markdown",
      "source": [
        "## String Formatting"
      ],
      "metadata": {
        "id": "1lJdct8zYXbP"
      }
    },
    {
      "cell_type": "code",
      "source": [
        "a = \"My name is ali\""
      ],
      "metadata": {
        "id": "-6IUZLv2YXSX"
      },
      "execution_count": null,
      "outputs": []
    },
    {
      "cell_type": "code",
      "source": [
        "name = \"Ahmad\"\n",
        "\n",
        "introduction = \"My name is {}\".format(name)\n",
        "\n",
        "print(introduction)"
      ],
      "metadata": {
        "colab": {
          "base_uri": "https://localhost:8080/"
        },
        "id": "eC3ht3-6YXQB",
        "outputId": "1d40376a-2f50-431f-a979-4cf79237f3bf"
      },
      "execution_count": null,
      "outputs": [
        {
          "output_type": "stream",
          "name": "stdout",
          "text": [
            "My name is Ahmad\n"
          ]
        }
      ]
    },
    {
      "cell_type": "code",
      "source": [
        "first_name = \"Ali\"\n",
        "last_name = \"Sufali\"\n",
        "\n",
        "introduction = \"My name is {} {}\".format(first_name, last_name)\n",
        "\n",
        "print(introduction)"
      ],
      "metadata": {
        "colab": {
          "base_uri": "https://localhost:8080/"
        },
        "id": "TcHcjtKOYXMI",
        "outputId": "6e52623c-41bc-4164-a99c-2549a9020c26"
      },
      "execution_count": null,
      "outputs": [
        {
          "output_type": "stream",
          "name": "stdout",
          "text": [
            "My name is Ali Sufali\n"
          ]
        }
      ]
    },
    {
      "cell_type": "code",
      "source": [
        "first_name = \"Ali\"\n",
        "last_name = \"Sufali\"\n",
        "\n",
        "introduction = \"My name is {0} {1}\".format(first_name, last_name)\n",
        "\n",
        "print(introduction)"
      ],
      "metadata": {
        "colab": {
          "base_uri": "https://localhost:8080/"
        },
        "id": "dm10pbKYYXH6",
        "outputId": "197c2e25-4152-4d33-f973-ee1614af41e2"
      },
      "execution_count": null,
      "outputs": [
        {
          "output_type": "stream",
          "name": "stdout",
          "text": [
            "My name is Ali Sufali\n"
          ]
        }
      ]
    },
    {
      "cell_type": "code",
      "source": [
        "first_name = \"Ali\"\n",
        "last_name = \"Sufali\"\n",
        "\n",
        "introduction = \"My name is {1} {0}\".format(first_name, last_name)\n",
        "\n",
        "print(introduction)"
      ],
      "metadata": {
        "colab": {
          "base_uri": "https://localhost:8080/"
        },
        "id": "YK2WM4h9YXFX",
        "outputId": "c9c96760-d494-47de-ba2f-cb0e7fab1afa"
      },
      "execution_count": null,
      "outputs": [
        {
          "output_type": "stream",
          "name": "stdout",
          "text": [
            "My name is Sufali Ali\n"
          ]
        }
      ]
    },
    {
      "cell_type": "code",
      "source": [
        "first_name = \"Ali\"\n",
        "last_name = \"Sufali\"\n",
        "\n",
        "introduction = \"My name is {0} {0}\".format(first_name)\n",
        "\n",
        "print(introduction)"
      ],
      "metadata": {
        "colab": {
          "base_uri": "https://localhost:8080/"
        },
        "id": "UImYGoUJYXDQ",
        "outputId": "9e3db81b-8add-4023-d8cf-4bdf4c0840a4"
      },
      "execution_count": null,
      "outputs": [
        {
          "output_type": "stream",
          "name": "stdout",
          "text": [
            "My name is Ali Ali\n"
          ]
        }
      ]
    },
    {
      "cell_type": "code",
      "source": [
        "first_name = \"Ali\"\n",
        "last_name = \"Sufali\"\n",
        "\n",
        "introduction = f\"My name is {first_name} {last_name}\"\n",
        "\n",
        "print(introduction)"
      ],
      "metadata": {
        "colab": {
          "base_uri": "https://localhost:8080/"
        },
        "id": "08huf2AhZbGM",
        "outputId": "224dea9a-fdaf-43ed-f483-09baebd1385e"
      },
      "execution_count": null,
      "outputs": [
        {
          "output_type": "stream",
          "name": "stdout",
          "text": [
            "My name is Ali Sufali\n"
          ]
        }
      ]
    },
    {
      "cell_type": "code",
      "source": [
        "math_mark = 19.586353213231\n",
        "physics_mark = 18.359\n",
        "\n",
        "my_marks = f\"My mathematics mark is: {math_mark:.2f} and my physics mark is: {physics_mark:.2f}\"\n",
        "\n",
        "print(my_marks)"
      ],
      "metadata": {
        "colab": {
          "base_uri": "https://localhost:8080/"
        },
        "id": "ypFkteflZa_8",
        "outputId": "44a82b94-0775-4ac7-b4ff-4b10b05ede9d"
      },
      "execution_count": null,
      "outputs": [
        {
          "output_type": "stream",
          "name": "stdout",
          "text": [
            "My mathematics mark is: 19.59 and my physics mark is: 18.36\n"
          ]
        }
      ]
    },
    {
      "cell_type": "markdown",
      "source": [
        "## Function"
      ],
      "metadata": {
        "id": "Fwac8GuYOzax"
      }
    },
    {
      "cell_type": "code",
      "source": [
        "def factorial(n):\n",
        "    result = 1\n",
        "    for value in range(1, n+1):\n",
        "        result = result * value\n",
        "    return result"
      ],
      "metadata": {
        "id": "foxt8wcFNIoI"
      },
      "execution_count": null,
      "outputs": []
    },
    {
      "cell_type": "code",
      "source": [
        "factorial(5)"
      ],
      "metadata": {
        "colab": {
          "base_uri": "https://localhost:8080/"
        },
        "id": "KptUkk4TPujy",
        "outputId": "aadd1513-3fd2-4c7c-ec13-9462ae06848c"
      },
      "execution_count": null,
      "outputs": [
        {
          "output_type": "execute_result",
          "data": {
            "text/plain": [
              "120"
            ]
          },
          "metadata": {},
          "execution_count": 32
        }
      ]
    },
    {
      "cell_type": "code",
      "source": [
        "for number in range(1, 11):\n",
        "    print(number, factorial(number))"
      ],
      "metadata": {
        "colab": {
          "base_uri": "https://localhost:8080/"
        },
        "id": "Np2tiIMbPjoC",
        "outputId": "58191193-2598-434d-8889-1c4463b406db"
      },
      "execution_count": null,
      "outputs": [
        {
          "output_type": "stream",
          "name": "stdout",
          "text": [
            "1 1\n",
            "2 2\n",
            "3 6\n",
            "4 24\n",
            "5 120\n",
            "6 720\n",
            "7 5040\n",
            "8 40320\n",
            "9 362880\n",
            "10 3628800\n"
          ]
        }
      ]
    },
    {
      "cell_type": "code",
      "source": [
        "for number in range(1, 11):\n",
        "    result = 1\n",
        "    for value in range(1, number+1):\n",
        "        result = result * value\n",
        "    print(result)"
      ],
      "metadata": {
        "colab": {
          "base_uri": "https://localhost:8080/"
        },
        "id": "sdmf2sarP5KL",
        "outputId": "f96a22f4-d6d9-48ed-a2f2-630866712dc9"
      },
      "execution_count": null,
      "outputs": [
        {
          "output_type": "stream",
          "name": "stdout",
          "text": [
            "1\n",
            "2\n",
            "6\n",
            "24\n",
            "120\n",
            "720\n",
            "5040\n",
            "40320\n",
            "362880\n",
            "3628800\n"
          ]
        }
      ]
    },
    {
      "cell_type": "code",
      "source": [
        "factorial(-1)"
      ],
      "metadata": {
        "colab": {
          "base_uri": "https://localhost:8080/"
        },
        "id": "iBHLpDvwQBtA",
        "outputId": "b50ba646-8fff-4b55-c45d-f4c78cba2b87"
      },
      "execution_count": null,
      "outputs": [
        {
          "output_type": "execute_result",
          "data": {
            "text/plain": [
              "1"
            ]
          },
          "metadata": {},
          "execution_count": 36
        }
      ]
    },
    {
      "cell_type": "code",
      "source": [
        "def factorial1(n):\n",
        "    result = 1\n",
        "    for value in range(1, n+1):\n",
        "        result = result * value\n",
        "    return result\n",
        "\n",
        "def factorial2(n):\n",
        "    result = 1\n",
        "    for value in range(1, n+1):\n",
        "        result = result * value\n",
        "    print(result)"
      ],
      "metadata": {
        "id": "ckrYoPriQIwM"
      },
      "execution_count": null,
      "outputs": []
    },
    {
      "cell_type": "code",
      "source": [
        "factorial1(5)"
      ],
      "metadata": {
        "colab": {
          "base_uri": "https://localhost:8080/"
        },
        "id": "uXwwQlbKQW7B",
        "outputId": "9417117c-90b7-41ae-8282-734338b07499"
      },
      "execution_count": null,
      "outputs": [
        {
          "output_type": "execute_result",
          "data": {
            "text/plain": [
              "120"
            ]
          },
          "metadata": {},
          "execution_count": 38
        }
      ]
    },
    {
      "cell_type": "code",
      "source": [
        "factorial2(5)"
      ],
      "metadata": {
        "colab": {
          "base_uri": "https://localhost:8080/"
        },
        "id": "1CU2eQHlQYuW",
        "outputId": "babe7b90-5f59-4dd9-c77a-e39abff8e433"
      },
      "execution_count": null,
      "outputs": [
        {
          "output_type": "stream",
          "name": "stdout",
          "text": [
            "120\n"
          ]
        }
      ]
    },
    {
      "cell_type": "code",
      "source": [
        "result1 = factorial1(5)"
      ],
      "metadata": {
        "id": "u_LXC0QIQaQ_"
      },
      "execution_count": null,
      "outputs": []
    },
    {
      "cell_type": "code",
      "source": [
        "result2 = factorial2(5)"
      ],
      "metadata": {
        "colab": {
          "base_uri": "https://localhost:8080/"
        },
        "id": "rrx1A498Qc4l",
        "outputId": "b89e0438-e267-4fbc-d3e3-e4e6f06d6408"
      },
      "execution_count": null,
      "outputs": [
        {
          "output_type": "stream",
          "name": "stdout",
          "text": [
            "120\n"
          ]
        }
      ]
    },
    {
      "cell_type": "code",
      "source": [
        "result1"
      ],
      "metadata": {
        "colab": {
          "base_uri": "https://localhost:8080/"
        },
        "id": "9anWsOONQemC",
        "outputId": "bef7387f-01e3-4c34-a314-4c51dbcd2096"
      },
      "execution_count": null,
      "outputs": [
        {
          "output_type": "execute_result",
          "data": {
            "text/plain": [
              "120"
            ]
          },
          "metadata": {},
          "execution_count": 42
        }
      ]
    },
    {
      "cell_type": "code",
      "source": [
        "result2"
      ],
      "metadata": {
        "id": "D_e5wkP6Qhhn"
      },
      "execution_count": null,
      "outputs": []
    },
    {
      "cell_type": "code",
      "source": [
        "def some_function(c):\n",
        "    result = c + a + b\n",
        "    return result"
      ],
      "metadata": {
        "id": "vVrje96YQiWw"
      },
      "execution_count": null,
      "outputs": []
    },
    {
      "cell_type": "code",
      "source": [
        "some_function(5)"
      ],
      "metadata": {
        "colab": {
          "base_uri": "https://localhost:8080/",
          "height": 254
        },
        "id": "SLM6eT6UQ9jG",
        "outputId": "353b012d-dcf4-4794-fc73-8658b301b197"
      },
      "execution_count": null,
      "outputs": [
        {
          "output_type": "error",
          "ename": "NameError",
          "evalue": "ignored",
          "traceback": [
            "\u001b[0;31m---------------------------------------------------------------------------\u001b[0m",
            "\u001b[0;31mNameError\u001b[0m                                 Traceback (most recent call last)",
            "\u001b[0;32m<ipython-input-59-ea8ccdebc33f>\u001b[0m in \u001b[0;36m<cell line: 1>\u001b[0;34m()\u001b[0m\n\u001b[0;32m----> 1\u001b[0;31m \u001b[0msome_function\u001b[0m\u001b[0;34m(\u001b[0m\u001b[0;36m5\u001b[0m\u001b[0;34m)\u001b[0m\u001b[0;34m\u001b[0m\u001b[0;34m\u001b[0m\u001b[0m\n\u001b[0m",
            "\u001b[0;32m<ipython-input-58-59307b49dbd3>\u001b[0m in \u001b[0;36msome_function\u001b[0;34m(c)\u001b[0m\n\u001b[1;32m      1\u001b[0m \u001b[0;32mdef\u001b[0m \u001b[0msome_function\u001b[0m\u001b[0;34m(\u001b[0m\u001b[0mc\u001b[0m\u001b[0;34m)\u001b[0m\u001b[0;34m:\u001b[0m\u001b[0;34m\u001b[0m\u001b[0;34m\u001b[0m\u001b[0m\n\u001b[0;32m----> 2\u001b[0;31m     \u001b[0mresult\u001b[0m \u001b[0;34m=\u001b[0m \u001b[0mc\u001b[0m \u001b[0;34m+\u001b[0m \u001b[0ma\u001b[0m \u001b[0;34m+\u001b[0m \u001b[0mb\u001b[0m\u001b[0;34m\u001b[0m\u001b[0;34m\u001b[0m\u001b[0m\n\u001b[0m\u001b[1;32m      3\u001b[0m     \u001b[0;32mreturn\u001b[0m \u001b[0mresult\u001b[0m\u001b[0;34m\u001b[0m\u001b[0;34m\u001b[0m\u001b[0m\n",
            "\u001b[0;31mNameError\u001b[0m: name 'a' is not defined"
          ]
        }
      ]
    },
    {
      "cell_type": "code",
      "source": [
        "def calc_power_2(a):\n",
        "    result = a ** 2\n",
        "    return result"
      ],
      "metadata": {
        "id": "dFrLggeMTWA8"
      },
      "execution_count": null,
      "outputs": []
    },
    {
      "cell_type": "code",
      "source": [
        "calc_power_2(10)"
      ],
      "metadata": {
        "colab": {
          "base_uri": "https://localhost:8080/"
        },
        "id": "CwQtKGhkRqBe",
        "outputId": "5332868e-1cdc-43fe-e0b2-3bd6376f717d"
      },
      "execution_count": null,
      "outputs": [
        {
          "output_type": "execute_result",
          "data": {
            "text/plain": [
              "100"
            ]
          },
          "metadata": {},
          "execution_count": 62
        }
      ]
    },
    {
      "cell_type": "code",
      "source": [
        "calc_power_2(5)"
      ],
      "metadata": {
        "colab": {
          "base_uri": "https://localhost:8080/"
        },
        "id": "GsqAmvYrT7N5",
        "outputId": "92bca10b-a1f0-409e-decf-9cb8898a490f"
      },
      "execution_count": null,
      "outputs": [
        {
          "output_type": "execute_result",
          "data": {
            "text/plain": [
              "25"
            ]
          },
          "metadata": {},
          "execution_count": 63
        }
      ]
    },
    {
      "cell_type": "code",
      "source": [
        "def cal_power(a):\n",
        "    result = a ** power\n",
        "    return result"
      ],
      "metadata": {
        "id": "XfgcqPlyT8hE"
      },
      "execution_count": null,
      "outputs": []
    },
    {
      "cell_type": "code",
      "source": [
        "power = 2\n",
        "\n",
        "cal_power(10)"
      ],
      "metadata": {
        "colab": {
          "base_uri": "https://localhost:8080/"
        },
        "id": "F4scBYOzUFfE",
        "outputId": "c58eac2a-b606-4875-b353-6743fb000284"
      },
      "execution_count": null,
      "outputs": [
        {
          "output_type": "execute_result",
          "data": {
            "text/plain": [
              "100"
            ]
          },
          "metadata": {},
          "execution_count": 66
        }
      ]
    },
    {
      "cell_type": "code",
      "source": [
        "power = 3\n",
        "\n",
        "cal_power(10)"
      ],
      "metadata": {
        "colab": {
          "base_uri": "https://localhost:8080/"
        },
        "id": "2vPlYnzxUJ0H",
        "outputId": "3343136b-900b-4ff1-cd94-c91ae18b2f32"
      },
      "execution_count": null,
      "outputs": [
        {
          "output_type": "execute_result",
          "data": {
            "text/plain": [
              "1000"
            ]
          },
          "metadata": {},
          "execution_count": 67
        }
      ]
    },
    {
      "cell_type": "code",
      "source": [
        "def calc_power_list(l):\n",
        "    power = 4\n",
        "    def cal_power(a):\n",
        "        result = a ** power\n",
        "        return result\n",
        "    values = []\n",
        "    for value in l:\n",
        "        values.append(cal_power(value))\n",
        "    return values"
      ],
      "metadata": {
        "id": "D7M3J2tdUTNG"
      },
      "execution_count": null,
      "outputs": []
    },
    {
      "cell_type": "code",
      "source": [
        "calc_power_list([1, 2, 3, 4, 5, 6])"
      ],
      "metadata": {
        "colab": {
          "base_uri": "https://localhost:8080/"
        },
        "id": "zdGeLAxnUs4l",
        "outputId": "edd7b698-7674-41a6-fd32-9fc15dbe8731"
      },
      "execution_count": null,
      "outputs": [
        {
          "output_type": "execute_result",
          "data": {
            "text/plain": [
              "[1, 16, 81, 256, 625, 1296]"
            ]
          },
          "metadata": {},
          "execution_count": 79
        }
      ]
    },
    {
      "cell_type": "code",
      "source": [],
      "metadata": {
        "id": "I5tP4eZMUxRl"
      },
      "execution_count": null,
      "outputs": []
    },
    {
      "cell_type": "code",
      "source": [
        "def calculate_powered(number, power):\n",
        "    result = number ** power\n",
        "    return result"
      ],
      "metadata": {
        "id": "JjFsnpOlVBYJ"
      },
      "execution_count": null,
      "outputs": []
    },
    {
      "cell_type": "code",
      "source": [
        "def greet():\n",
        "    print(\"Hello World!\")\n",
        "\n",
        "greet()"
      ],
      "metadata": {
        "colab": {
          "base_uri": "https://localhost:8080/"
        },
        "id": "6q7nNTLfVh4V",
        "outputId": "b64a128c-2065-4525-ce51-4a1a98351e4a"
      },
      "execution_count": null,
      "outputs": [
        {
          "output_type": "stream",
          "name": "stdout",
          "text": [
            "Hello World!\n"
          ]
        }
      ]
    },
    {
      "cell_type": "code",
      "source": [
        "def greet(name):\n",
        "    print(f\"Hello {name}\")\n",
        "\n",
        "greet(\"Ali\")\n",
        "greet(\"Hassan\")"
      ],
      "metadata": {
        "colab": {
          "base_uri": "https://localhost:8080/"
        },
        "id": "Ln6cdHc2aqvH",
        "outputId": "33110e25-835e-4258-e42b-9f8edcb707b2"
      },
      "execution_count": null,
      "outputs": [
        {
          "output_type": "stream",
          "name": "stdout",
          "text": [
            "Hello Ali\n",
            "Hello Hassan\n"
          ]
        }
      ]
    },
    {
      "cell_type": "code",
      "source": [
        "def greet(first_name, last_name):\n",
        "    print(f\"Hello {first_name} {last_name}\")\n",
        "\n",
        "greet(first_name=\"Ali\", last_name=\"Sufali\")"
      ],
      "metadata": {
        "colab": {
          "base_uri": "https://localhost:8080/"
        },
        "id": "aPmDXtfRarg1",
        "outputId": "0c27c63a-ec74-42fe-e66c-ca367af95cf8"
      },
      "execution_count": null,
      "outputs": [
        {
          "output_type": "stream",
          "name": "stdout",
          "text": [
            "Hello Ali Sufali\n"
          ]
        }
      ]
    },
    {
      "cell_type": "code",
      "source": [
        "def add(a, b):\n",
        "    result = a + b\n",
        "    return result"
      ],
      "metadata": {
        "id": "dATNS-fRback"
      },
      "execution_count": null,
      "outputs": []
    },
    {
      "cell_type": "code",
      "source": [
        "add(5, 10)"
      ],
      "metadata": {
        "colab": {
          "base_uri": "https://localhost:8080/"
        },
        "id": "avR1NCD5chKb",
        "outputId": "e7264335-1524-4d8e-a0d9-2953e6677fa2"
      },
      "execution_count": null,
      "outputs": [
        {
          "output_type": "execute_result",
          "data": {
            "text/plain": [
              "15"
            ]
          },
          "metadata": {},
          "execution_count": 109
        }
      ]
    },
    {
      "cell_type": "code",
      "source": [
        "r = add(1000, 555)"
      ],
      "metadata": {
        "id": "81MUyqO1cj2c"
      },
      "execution_count": null,
      "outputs": []
    },
    {
      "cell_type": "code",
      "source": [
        "print(r)"
      ],
      "metadata": {
        "colab": {
          "base_uri": "https://localhost:8080/"
        },
        "id": "nZRi_PtscmvY",
        "outputId": "48f1e75a-36a2-46eb-bd19-25eb446a54e4"
      },
      "execution_count": null,
      "outputs": [
        {
          "output_type": "stream",
          "name": "stdout",
          "text": [
            "1555\n"
          ]
        }
      ]
    },
    {
      "cell_type": "code",
      "source": [
        "type(r)"
      ],
      "metadata": {
        "colab": {
          "base_uri": "https://localhost:8080/"
        },
        "id": "eYo6xCI3cstp",
        "outputId": "9920f843-76e3-446f-9eb4-58cd36770d76"
      },
      "execution_count": null,
      "outputs": [
        {
          "output_type": "execute_result",
          "data": {
            "text/plain": [
              "int"
            ]
          },
          "metadata": {},
          "execution_count": 114
        }
      ]
    },
    {
      "cell_type": "code",
      "source": [
        "def add(a1, a2=0, *others):\n",
        "    result = a1 + a2\n",
        "    for value in others:\n",
        "        result = result + value\n",
        "    return result"
      ],
      "metadata": {
        "id": "WXm0EFSictQG"
      },
      "execution_count": null,
      "outputs": []
    },
    {
      "cell_type": "code",
      "source": [
        "add(b=5, c=10, d=15, f=47)"
      ],
      "metadata": {
        "colab": {
          "base_uri": "https://localhost:8080/",
          "height": 167
        },
        "id": "md98e_Csc4WC",
        "outputId": "2af545cd-a809-49c7-de85-160b3512cc61"
      },
      "execution_count": null,
      "outputs": [
        {
          "output_type": "error",
          "ename": "TypeError",
          "evalue": "ignored",
          "traceback": [
            "\u001b[0;31m---------------------------------------------------------------------------\u001b[0m",
            "\u001b[0;31mTypeError\u001b[0m                                 Traceback (most recent call last)",
            "\u001b[0;32m<ipython-input-138-83446bc5392b>\u001b[0m in \u001b[0;36m<cell line: 1>\u001b[0;34m()\u001b[0m\n\u001b[0;32m----> 1\u001b[0;31m \u001b[0madd\u001b[0m\u001b[0;34m(\u001b[0m\u001b[0mb\u001b[0m\u001b[0;34m=\u001b[0m\u001b[0;36m5\u001b[0m\u001b[0;34m,\u001b[0m \u001b[0mc\u001b[0m\u001b[0;34m=\u001b[0m\u001b[0;36m10\u001b[0m\u001b[0;34m,\u001b[0m \u001b[0md\u001b[0m\u001b[0;34m=\u001b[0m\u001b[0;36m15\u001b[0m\u001b[0;34m,\u001b[0m \u001b[0mf\u001b[0m\u001b[0;34m=\u001b[0m\u001b[0;36m47\u001b[0m\u001b[0;34m)\u001b[0m\u001b[0;34m\u001b[0m\u001b[0;34m\u001b[0m\u001b[0m\n\u001b[0m",
            "\u001b[0;31mTypeError\u001b[0m: add() got an unexpected keyword argument 'b'"
          ]
        }
      ]
    },
    {
      "cell_type": "code",
      "source": [
        "def add(a1=0, a2=0, *args, **kwargs):\n",
        "    print(args)\n",
        "    print(kwargs)\n",
        "    result = a1 + a2\n",
        "    for arg_value in args:\n",
        "        result = result + arg_value\n",
        "    for kwarg_value in kwargs.values():\n",
        "        result = result + kwarg_value\n",
        "    return result"
      ],
      "metadata": {
        "id": "rKEGNLDkduw-"
      },
      "execution_count": null,
      "outputs": []
    },
    {
      "cell_type": "code",
      "source": [
        "add(1, 2, 3, 4, 5, 6, b=15, c=47, d=48)"
      ],
      "metadata": {
        "colab": {
          "base_uri": "https://localhost:8080/"
        },
        "id": "zHZ4ms7Of0GZ",
        "outputId": "0693d859-c7e3-42d3-fbef-fb56d403643a"
      },
      "execution_count": null,
      "outputs": [
        {
          "output_type": "stream",
          "name": "stdout",
          "text": [
            "(3, 4, 5, 6)\n",
            "{'b': 15, 'c': 47, 'd': 48}\n"
          ]
        },
        {
          "output_type": "execute_result",
          "data": {
            "text/plain": [
              "131"
            ]
          },
          "metadata": {},
          "execution_count": 158
        }
      ]
    },
    {
      "cell_type": "code",
      "source": [
        "def print_args_and_kwargs(*args, **kwargs):\n",
        "    for i, arg in enumerate(args):\n",
        "        print(f\"Positional argument {i} is {arg}\")\n",
        "    for key, value in kwargs.items():\n",
        "        print(f\"Keyword argument {key} is {value}\")"
      ],
      "metadata": {
        "id": "FZBjQSYXgAcQ"
      },
      "execution_count": null,
      "outputs": []
    },
    {
      "cell_type": "code",
      "source": [
        "print_args_and_kwargs(1, 2, 3, a=4, b=5, c=6)"
      ],
      "metadata": {
        "colab": {
          "base_uri": "https://localhost:8080/"
        },
        "id": "TPXKLsLnhH76",
        "outputId": "41082744-f53c-4ee4-c2eb-c3aad617622a"
      },
      "execution_count": null,
      "outputs": [
        {
          "output_type": "stream",
          "name": "stdout",
          "text": [
            "Positional argument 0 is 1\n",
            "Positional argument 1 is 2\n",
            "Positional argument 2 is 3\n",
            "Keyword argument a is 4\n",
            "Keyword argument b is 5\n",
            "Keyword argument c is 6\n"
          ]
        }
      ]
    },
    {
      "cell_type": "code",
      "source": [
        "def get_min_and_max(numbers):\n",
        "    minimum_value = min(numbers)\n",
        "    maximum_value = max(numbers)\n",
        "    return minimum_value, maximum_value"
      ],
      "metadata": {
        "id": "RJAtbWb7hLWz"
      },
      "execution_count": null,
      "outputs": []
    },
    {
      "cell_type": "code",
      "source": [
        "min_and_max_values = get_min_and_max(numbers=[5, 10, 15, 1500, 40, 37, -2])"
      ],
      "metadata": {
        "id": "45GTGwQriEL_"
      },
      "execution_count": null,
      "outputs": []
    },
    {
      "cell_type": "code",
      "source": [
        "min_and_max_values"
      ],
      "metadata": {
        "colab": {
          "base_uri": "https://localhost:8080/"
        },
        "id": "ZAq1Us0siLSs",
        "outputId": "c79474d2-08ec-4221-dd58-d2ee8b0dfe41"
      },
      "execution_count": null,
      "outputs": [
        {
          "output_type": "execute_result",
          "data": {
            "text/plain": [
              "(-2, 1500)"
            ]
          },
          "metadata": {},
          "execution_count": 161
        }
      ]
    },
    {
      "cell_type": "code",
      "source": [
        "type(min_and_max_values)"
      ],
      "metadata": {
        "colab": {
          "base_uri": "https://localhost:8080/"
        },
        "id": "kW1S7FR5iMFy",
        "outputId": "c96507f5-456e-46bf-f13c-4b80c9ad6a4d"
      },
      "execution_count": null,
      "outputs": [
        {
          "output_type": "execute_result",
          "data": {
            "text/plain": [
              "tuple"
            ]
          },
          "metadata": {},
          "execution_count": 162
        }
      ]
    },
    {
      "cell_type": "code",
      "source": [
        "def greet(name):\n",
        "    print(f\"Hello {name}\")\n",
        "\n",
        "    if name.startswith(\"B\"):\n",
        "        return name\n",
        "\n",
        "greet_result = greet(name=\"Ali\")"
      ],
      "metadata": {
        "colab": {
          "base_uri": "https://localhost:8080/"
        },
        "id": "oZptE7UCiOoN",
        "outputId": "7dacf430-316a-40be-d2f6-6e8e9f0b705c"
      },
      "execution_count": null,
      "outputs": [
        {
          "output_type": "stream",
          "name": "stdout",
          "text": [
            "Hello Ali\n"
          ]
        }
      ]
    },
    {
      "cell_type": "markdown",
      "source": [
        "## Scope"
      ],
      "metadata": {
        "id": "DJfXKIJeju-V"
      }
    },
    {
      "cell_type": "code",
      "source": [
        "def my_function():\n",
        "    a = \"I am local\"\n",
        "    print(a)"
      ],
      "metadata": {
        "id": "EbwR8vuxiWLR"
      },
      "execution_count": null,
      "outputs": []
    },
    {
      "cell_type": "code",
      "source": [
        "my_function()"
      ],
      "metadata": {
        "colab": {
          "base_uri": "https://localhost:8080/"
        },
        "id": "r7La57ogicM4",
        "outputId": "b5a46d2f-3c75-40d3-e8b4-7c661b781617"
      },
      "execution_count": null,
      "outputs": [
        {
          "output_type": "stream",
          "name": "stdout",
          "text": [
            "I am local\n"
          ]
        }
      ]
    },
    {
      "cell_type": "code",
      "source": [
        "def my_function():\n",
        "    print(a)"
      ],
      "metadata": {
        "id": "HILVnBWjj4fz"
      },
      "execution_count": null,
      "outputs": []
    },
    {
      "cell_type": "code",
      "source": [
        "a = \"I am global man!\""
      ],
      "metadata": {
        "id": "3WDHqb_wkQW7"
      },
      "execution_count": null,
      "outputs": []
    },
    {
      "cell_type": "code",
      "source": [
        "my_function()"
      ],
      "metadata": {
        "colab": {
          "base_uri": "https://localhost:8080/"
        },
        "id": "7jFS0W1QkQrn",
        "outputId": "f5d2eb4b-5c02-4629-9c18-80bef42d4a00"
      },
      "execution_count": null,
      "outputs": [
        {
          "output_type": "stream",
          "name": "stdout",
          "text": [
            "I am global man!\n"
          ]
        }
      ]
    },
    {
      "cell_type": "code",
      "source": [
        "a = \"I am global\"\n",
        "\n",
        "def my_function():\n",
        "    a = \"I am local\"\n",
        "    print(a)\n",
        "\n",
        "my_function()\n",
        "print(a)"
      ],
      "metadata": {
        "colab": {
          "base_uri": "https://localhost:8080/"
        },
        "id": "EtT_yfV8kRtD",
        "outputId": "502c74ba-5e88-4fea-89a2-d1d24a0d39ba"
      },
      "execution_count": null,
      "outputs": [
        {
          "output_type": "stream",
          "name": "stdout",
          "text": [
            "I am local\n",
            "I am global\n"
          ]
        }
      ]
    },
    {
      "cell_type": "code",
      "source": [
        "my_function()"
      ],
      "metadata": {
        "colab": {
          "base_uri": "https://localhost:8080/"
        },
        "id": "71GHMD3Xkmju",
        "outputId": "42889e88-e3fb-48d2-b2a0-a0f7757fff0c"
      },
      "execution_count": null,
      "outputs": [
        {
          "output_type": "stream",
          "name": "stdout",
          "text": [
            "I am global in local\n"
          ]
        }
      ]
    },
    {
      "cell_type": "code",
      "source": [
        "a = \"I am global\"\n",
        "\n",
        "def my_function():\n",
        "    global a\n",
        "    a = \"I am global in local\"\n",
        "    print(a)\n",
        "\n",
        "my_function()\n",
        "print(a)"
      ],
      "metadata": {
        "colab": {
          "base_uri": "https://localhost:8080/"
        },
        "id": "MGDsloIxknkq",
        "outputId": "a05e67ff-84c9-4551-e007-376eb90c780c"
      },
      "execution_count": null,
      "outputs": [
        {
          "output_type": "stream",
          "name": "stdout",
          "text": [
            "I am global in local\n",
            "I am global in local\n"
          ]
        }
      ]
    },
    {
      "cell_type": "code",
      "source": [
        "my_function()"
      ],
      "metadata": {
        "colab": {
          "base_uri": "https://localhost:8080/"
        },
        "id": "23BU8YxtkyfW",
        "outputId": "ae2ca33c-fb40-413c-8213-dd8fe1ec5d94"
      },
      "execution_count": null,
      "outputs": [
        {
          "output_type": "stream",
          "name": "stdout",
          "text": [
            "I am local\n"
          ]
        }
      ]
    },
    {
      "cell_type": "code",
      "source": [
        "a"
      ],
      "metadata": {
        "colab": {
          "base_uri": "https://localhost:8080/",
          "height": 35
        },
        "id": "PaM3kz-8k0dL",
        "outputId": "4e77b97e-f1fe-463a-9f8a-9e01aab47979"
      },
      "execution_count": null,
      "outputs": [
        {
          "output_type": "execute_result",
          "data": {
            "text/plain": [
              "'I am global in local'"
            ],
            "application/vnd.google.colaboratory.intrinsic+json": {
              "type": "string"
            }
          },
          "metadata": {},
          "execution_count": 186
        }
      ]
    },
    {
      "cell_type": "markdown",
      "source": [
        "## Reading/Writting Files"
      ],
      "metadata": {
        "id": "kQ7117Zro08g"
      }
    },
    {
      "cell_type": "code",
      "source": [
        "!pwd"
      ],
      "metadata": {
        "colab": {
          "base_uri": "https://localhost:8080/"
        },
        "id": "ZeR28YSfk3Lz",
        "outputId": "da2e1de3-248a-4728-9eb8-534ae38a0706"
      },
      "execution_count": null,
      "outputs": [
        {
          "output_type": "stream",
          "name": "stdout",
          "text": [
            "/content\n"
          ]
        }
      ]
    },
    {
      "cell_type": "code",
      "source": [
        "!ls"
      ],
      "metadata": {
        "colab": {
          "base_uri": "https://localhost:8080/"
        },
        "id": "AmaHTNwmpvZR",
        "outputId": "99e82411-9286-4362-da97-6fadf5aca97a"
      },
      "execution_count": null,
      "outputs": [
        {
          "output_type": "stream",
          "name": "stdout",
          "text": [
            "data.txt  sample_data\n"
          ]
        }
      ]
    },
    {
      "cell_type": "code",
      "source": [
        "with open(file=\"data.txt\", mode=\"rt\") as data_file:\n",
        "    data = data_file.readlines()\n",
        "    number_lines = len(data)\n",
        "    for line_index in range(number_lines):\n",
        "        data[line_index] = data[line_index].replace(\"\\n\", \"\")\n",
        "    data_file.seek(0)\n",
        "    data2 = data_file.readlines()"
      ],
      "metadata": {
        "id": "LVAYBkrzpyRQ"
      },
      "execution_count": null,
      "outputs": []
    },
    {
      "cell_type": "code",
      "source": [
        "data"
      ],
      "metadata": {
        "colab": {
          "base_uri": "https://localhost:8080/"
        },
        "id": "UhrAxVnjqxSI",
        "outputId": "c2f62347-1856-44e2-8e2c-1dac780fa47a"
      },
      "execution_count": null,
      "outputs": [
        {
          "output_type": "execute_result",
          "data": {
            "text/plain": [
              "['my name is ali sufali.', 'my age is 26.']"
            ]
          },
          "metadata": {},
          "execution_count": 210
        }
      ]
    },
    {
      "cell_type": "code",
      "source": [
        "data2"
      ],
      "metadata": {
        "colab": {
          "base_uri": "https://localhost:8080/"
        },
        "id": "nad0E2Bdrh4b",
        "outputId": "dcc11a39-5f16-4ebd-b247-b00a8c58c888"
      },
      "execution_count": null,
      "outputs": [
        {
          "output_type": "execute_result",
          "data": {
            "text/plain": [
              "[' ali sufali.\\n', 'my age is 26.']"
            ]
          },
          "metadata": {},
          "execution_count": 211
        }
      ]
    },
    {
      "cell_type": "code",
      "source": [
        "with open(file=\"data.txt\", mode=\"rt\") as data_file:\n",
        "    line = data_file.readline()\n",
        "    print(line)"
      ],
      "metadata": {
        "colab": {
          "base_uri": "https://localhost:8080/"
        },
        "id": "A0CS4sLQresc",
        "outputId": "1c9d4e45-15e8-4795-9362-9e5d4bd4afa3"
      },
      "execution_count": null,
      "outputs": [
        {
          "output_type": "stream",
          "name": "stdout",
          "text": [
            "my name is ali sufali.\n",
            "\n"
          ]
        }
      ]
    },
    {
      "cell_type": "code",
      "source": [
        "with open(file=\"./sample_data/california_housing_train.csv\", mode=\"rt\") as file:\n",
        "    data = file.readlines()"
      ],
      "metadata": {
        "id": "qHg1OD0gs3xO"
      },
      "execution_count": null,
      "outputs": []
    },
    {
      "cell_type": "code",
      "source": [
        "data = data[1:]"
      ],
      "metadata": {
        "id": "_tuZSGUDta-2"
      },
      "execution_count": null,
      "outputs": []
    },
    {
      "cell_type": "code",
      "source": [
        "number_lines = len(data)\n",
        "\n",
        "for index_line in range(number_lines):\n",
        "    data[index_line] = data[index_line].replace(\"\\n\", \"\").split(\",\")"
      ],
      "metadata": {
        "id": "DPTRQsUNtbYX"
      },
      "execution_count": null,
      "outputs": []
    },
    {
      "cell_type": "code",
      "source": [
        "for index_line in range(number_lines):\n",
        "    line = data[index_line]\n",
        "    number_values = len(line)\n",
        "    for index_value in range(number_values):\n",
        "        line[index_value] = float(line[index_value])\n"
      ],
      "metadata": {
        "id": "eThfnjZZtmgf"
      },
      "execution_count": null,
      "outputs": []
    },
    {
      "cell_type": "code",
      "source": [
        "text = \"\"\"Imagine a world where technology seamlessly integrates with everyday life, enhancing our experiences and simplifying our tasks. As you wake up in the morning, your smart home system detects your movement and gradually adjusts the lighting and temperature to gently ease you into the day.\n",
        "You make your way to the kitchen, where a voice-activated assistant greets you and offers suggestions for a healthy breakfast based on your dietary preferences. With a few simple commands, you instruct the assistant to prepare your favorite smoothie while providing you with the morning news updates.\n",
        "As you head out for work, your autonomous electric car awaits, fully charged and ready to go. You settle into the comfortable seat, and the vehicle's advanced AI takes over, navigating through traffic and optimizing the route based on real-time data. Meanwhile, you use the car's integrated virtual reality system to catch up on a virtual meeting with colleagues from around the world.\n",
        "Arriving at the office, you step into a workspace equipped with augmented reality (AR) technology. With a pair of smart glasses, you effortlessly collaborate with remote teammates, overlaying virtual documents and designs onto the physical workspace. This seamless integration of digital and physical realms revolutionizes productivity and communication.\n",
        "In the evening, you return home to relax and unwind. Your AI-powered personal assistant suggests a movie based on your preferences and mood, creating a personalized viewing experience. The living room transforms into an immersive theater, with sound and visuals tailored to your preferences, making you feel like you're part of the action.\n",
        "As you drift off to sleep, your smart sleep monitoring system analyzes your sleep patterns and adjusts the mattress and environment to ensure a restful night's sleep. It gently wakes you up the next morning, completing the cycle of a technologically enhanced and optimized lifestyle.\n",
        "This vision of the future may seem far-fetched, but with rapid advancements in artificial intelligence, automation, and virtual reality, we are moving closer to a world where technology seamlessly integrates into our lives, improving our well-being and transforming the way we live, work, and play.\"\"\""
      ],
      "metadata": {
        "id": "R-QHAfKtuE87"
      },
      "execution_count": null,
      "outputs": []
    },
    {
      "cell_type": "code",
      "source": [
        "with open(file=\"sample_text.txt\", mode=\"wt\") as file:\n",
        "    file.write(text)"
      ],
      "metadata": {
        "id": "pSeHfhDvuatu"
      },
      "execution_count": null,
      "outputs": []
    },
    {
      "cell_type": "code",
      "source": [
        "text_lines = text.split(\"\\n\")"
      ],
      "metadata": {
        "id": "tltEy0Aeu4yH"
      },
      "execution_count": null,
      "outputs": []
    },
    {
      "cell_type": "code",
      "source": [
        "text_lines"
      ],
      "metadata": {
        "colab": {
          "base_uri": "https://localhost:8080/"
        },
        "id": "I7XT4ZkXvZzj",
        "outputId": "b8f5817d-9dc8-4df4-9b74-9aaa679def5d"
      },
      "execution_count": null,
      "outputs": [
        {
          "output_type": "execute_result",
          "data": {
            "text/plain": [
              "['Imagine a world where technology seamlessly integrates with everyday life, enhancing our experiences and simplifying our tasks. As you wake up in the morning, your smart home system detects your movement and gradually adjusts the lighting and temperature to gently ease you into the day.',\n",
              " 'You make your way to the kitchen, where a voice-activated assistant greets you and offers suggestions for a healthy breakfast based on your dietary preferences. With a few simple commands, you instruct the assistant to prepare your favorite smoothie while providing you with the morning news updates.',\n",
              " \"As you head out for work, your autonomous electric car awaits, fully charged and ready to go. You settle into the comfortable seat, and the vehicle's advanced AI takes over, navigating through traffic and optimizing the route based on real-time data. Meanwhile, you use the car's integrated virtual reality system to catch up on a virtual meeting with colleagues from around the world.\",\n",
              " 'Arriving at the office, you step into a workspace equipped with augmented reality (AR) technology. With a pair of smart glasses, you effortlessly collaborate with remote teammates, overlaying virtual documents and designs onto the physical workspace. This seamless integration of digital and physical realms revolutionizes productivity and communication.',\n",
              " \"In the evening, you return home to relax and unwind. Your AI-powered personal assistant suggests a movie based on your preferences and mood, creating a personalized viewing experience. The living room transforms into an immersive theater, with sound and visuals tailored to your preferences, making you feel like you're part of the action.\",\n",
              " \"As you drift off to sleep, your smart sleep monitoring system analyzes your sleep patterns and adjusts the mattress and environment to ensure a restful night's sleep. It gently wakes you up the next morning, completing the cycle of a technologically enhanced and optimized lifestyle.\",\n",
              " 'This vision of the future may seem far-fetched, but with rapid advancements in artificial intelligence, automation, and virtual reality, we are moving closer to a world where technology seamlessly integrates into our lives, improving our well-being and transforming the way we live, work, and play.']"
            ]
          },
          "metadata": {},
          "execution_count": 236
        }
      ]
    },
    {
      "cell_type": "code",
      "source": [
        "with open(file=\"sample_text2.txt\", mode=\"wt\") as file:\n",
        "    text_lines_corrected = []\n",
        "    for text_line in text_lines:\n",
        "        text_lines_corrected.append(f\"{text_line}\\n\")\n",
        "    file.writelines(text_lines_corrected)"
      ],
      "metadata": {
        "id": "S2DBE4kRvaZS"
      },
      "execution_count": null,
      "outputs": []
    },
    {
      "cell_type": "code",
      "source": [
        "text_lines_corrected"
      ],
      "metadata": {
        "colab": {
          "base_uri": "https://localhost:8080/"
        },
        "id": "uBuNOWuzyNhf",
        "outputId": "916b56b0-becf-4c0a-b72d-4e5bc87c9e26"
      },
      "execution_count": null,
      "outputs": [
        {
          "output_type": "execute_result",
          "data": {
            "text/plain": [
              "['Imagine a world where technology seamlessly integrates with everyday life, enhancing our experiences and simplifying our tasks. As you wake up in the morning, your smart home system detects your movement and gradually adjusts the lighting and temperature to gently ease you into the day.\\n',\n",
              " 'You make your way to the kitchen, where a voice-activated assistant greets you and offers suggestions for a healthy breakfast based on your dietary preferences. With a few simple commands, you instruct the assistant to prepare your favorite smoothie while providing you with the morning news updates.\\n',\n",
              " \"As you head out for work, your autonomous electric car awaits, fully charged and ready to go. You settle into the comfortable seat, and the vehicle's advanced AI takes over, navigating through traffic and optimizing the route based on real-time data. Meanwhile, you use the car's integrated virtual reality system to catch up on a virtual meeting with colleagues from around the world.\\n\",\n",
              " 'Arriving at the office, you step into a workspace equipped with augmented reality (AR) technology. With a pair of smart glasses, you effortlessly collaborate with remote teammates, overlaying virtual documents and designs onto the physical workspace. This seamless integration of digital and physical realms revolutionizes productivity and communication.\\n',\n",
              " \"In the evening, you return home to relax and unwind. Your AI-powered personal assistant suggests a movie based on your preferences and mood, creating a personalized viewing experience. The living room transforms into an immersive theater, with sound and visuals tailored to your preferences, making you feel like you're part of the action.\\n\",\n",
              " \"As you drift off to sleep, your smart sleep monitoring system analyzes your sleep patterns and adjusts the mattress and environment to ensure a restful night's sleep. It gently wakes you up the next morning, completing the cycle of a technologically enhanced and optimized lifestyle.\\n\",\n",
              " 'This vision of the future may seem far-fetched, but with rapid advancements in artificial intelligence, automation, and virtual reality, we are moving closer to a world where technology seamlessly integrates into our lives, improving our well-being and transforming the way we live, work, and play.\\n']"
            ]
          },
          "metadata": {},
          "execution_count": 249
        }
      ]
    },
    {
      "cell_type": "code",
      "source": [],
      "metadata": {
        "id": "LoSKe9j1yNfH"
      },
      "execution_count": null,
      "outputs": []
    },
    {
      "cell_type": "code",
      "source": [],
      "metadata": {
        "id": "RNvMBDv4yNb_"
      },
      "execution_count": null,
      "outputs": []
    },
    {
      "cell_type": "code",
      "source": [],
      "metadata": {
        "id": "hWpCJem-yNZf"
      },
      "execution_count": null,
      "outputs": []
    },
    {
      "cell_type": "code",
      "source": [
        "def factorial(n):\n",
        "    \"\"\"\n",
        "    This is the description of the factorial function:\n",
        "        n! = factorial(n) = 1*2*3*...*n\n",
        "    \"\"\"\n",
        "\n",
        "    result = 1\n",
        "    for value in range(1, n+1):\n",
        "        result = result * value\n",
        "    return result"
      ],
      "metadata": {
        "id": "jRWsmKLBvqMc"
      },
      "execution_count": null,
      "outputs": []
    },
    {
      "cell_type": "code",
      "source": [
        "factorial()"
      ],
      "metadata": {
        "id": "jQaSzU93vut7"
      },
      "execution_count": null,
      "outputs": []
    }
  ]
}
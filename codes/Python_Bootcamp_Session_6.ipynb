{
  "nbformat": 4,
  "nbformat_minor": 0,
  "metadata": {
    "colab": {
      "provenance": [],
      "authorship_tag": "ABX9TyNVDh7BhN1p16HNAV31+DXb"
    },
    "kernelspec": {
      "name": "python3",
      "display_name": "Python 3"
    },
    "language_info": {
      "name": "python"
    }
  },
  "cells": [
    {
      "cell_type": "markdown",
      "source": [
        "## Lambda Functions and Their Applications In Python"
      ],
      "metadata": {
        "id": "JZYNSFJDTP_C"
      }
    },
    {
      "cell_type": "markdown",
      "source": [
        "Lambda Expression Syntax:\n",
        "\n",
        "lambda arguments: expression"
      ],
      "metadata": {
        "id": "xUfJvUjOTxb4"
      }
    },
    {
      "cell_type": "code",
      "execution_count": null,
      "metadata": {
        "id": "bf259lgOOmmX"
      },
      "outputs": [],
      "source": [
        "add = lambda x, y: x + y"
      ]
    },
    {
      "cell_type": "code",
      "source": [
        "line_string_corrector = lambda line_string: line_string.replace(\"\\n\", \"\")"
      ],
      "metadata": {
        "id": "6tc468a9ULqp"
      },
      "execution_count": null,
      "outputs": []
    },
    {
      "cell_type": "code",
      "source": [
        "x = \"Hello, my name is ali sufali \\nHow you are doing?\\n\""
      ],
      "metadata": {
        "id": "XBa943dmUdqO"
      },
      "execution_count": null,
      "outputs": []
    },
    {
      "cell_type": "code",
      "source": [
        "x"
      ],
      "metadata": {
        "colab": {
          "base_uri": "https://localhost:8080/",
          "height": 35
        },
        "id": "_uE-9IDZUmIy",
        "outputId": "f37033e5-4373-4b7d-b047-67503fdc6981"
      },
      "execution_count": null,
      "outputs": [
        {
          "output_type": "execute_result",
          "data": {
            "text/plain": [
              "'Hello, my name is ali sufali \\nHow you are doing?\\n'"
            ],
            "application/vnd.google.colaboratory.intrinsic+json": {
              "type": "string"
            }
          },
          "metadata": {},
          "execution_count": 5
        }
      ]
    },
    {
      "cell_type": "code",
      "source": [
        "line_string_corrector(x)"
      ],
      "metadata": {
        "colab": {
          "base_uri": "https://localhost:8080/",
          "height": 35
        },
        "id": "eIWlMgGjUmQ8",
        "outputId": "0f3dca8f-20d0-433c-f4cb-24241937eb54"
      },
      "execution_count": null,
      "outputs": [
        {
          "output_type": "execute_result",
          "data": {
            "text/plain": [
              "'Hello, my name is ali sufali How you are doing?'"
            ],
            "application/vnd.google.colaboratory.intrinsic+json": {
              "type": "string"
            }
          },
          "metadata": {},
          "execution_count": 6
        }
      ]
    },
    {
      "cell_type": "markdown",
      "source": [
        "### Applications of Lambda Expressions:"
      ],
      "metadata": {
        "id": "WhK70OLcVHIi"
      }
    },
    {
      "cell_type": "code",
      "source": [
        "numbers = [1, 2, 3, 4, 5]\n",
        "\n",
        "squared_numbers = list(map(lambda x: x**2, numbers))\n",
        "\n",
        "squared_numbers"
      ],
      "metadata": {
        "colab": {
          "base_uri": "https://localhost:8080/"
        },
        "id": "WhNGX_PlUoWT",
        "outputId": "b4f7d646-3440-4dcb-fbe9-980162bc1cda"
      },
      "execution_count": null,
      "outputs": [
        {
          "output_type": "execute_result",
          "data": {
            "text/plain": [
              "[1, 4, 9, 16, 25]"
            ]
          },
          "metadata": {},
          "execution_count": 7
        }
      ]
    },
    {
      "cell_type": "code",
      "source": [
        "x_2 = map(lambda x: x**2, numbers)"
      ],
      "metadata": {
        "id": "E-5dw3wgV0pg"
      },
      "execution_count": null,
      "outputs": []
    },
    {
      "cell_type": "code",
      "source": [
        "list(x_2)"
      ],
      "metadata": {
        "colab": {
          "base_uri": "https://localhost:8080/"
        },
        "id": "e2y0xoM8V43j",
        "outputId": "38d3c13e-8711-484b-f92e-9d0552c51713"
      },
      "execution_count": null,
      "outputs": [
        {
          "output_type": "execute_result",
          "data": {
            "text/plain": [
              "[1, 4, 9, 16, 25]"
            ]
          },
          "metadata": {},
          "execution_count": 14
        }
      ]
    },
    {
      "cell_type": "code",
      "source": [
        "names = [\"james\", \"john\", \"jane\", \"harry\"]\n",
        "\n",
        "function = lambda name: f\"Hello {name}\"\n",
        "\n",
        "greetings = list(map(function, names))"
      ],
      "metadata": {
        "id": "rOD9xT9tV5f3"
      },
      "execution_count": null,
      "outputs": []
    },
    {
      "cell_type": "code",
      "source": [
        "greetings"
      ],
      "metadata": {
        "colab": {
          "base_uri": "https://localhost:8080/"
        },
        "id": "vADD-_RXWYqP",
        "outputId": "e1844aba-abb9-46b2-8a82-ae836853a791"
      },
      "execution_count": null,
      "outputs": [
        {
          "output_type": "execute_result",
          "data": {
            "text/plain": [
              "['Hello james', 'Hello john', 'Hello jane', 'Hello harry']"
            ]
          },
          "metadata": {},
          "execution_count": 16
        }
      ]
    },
    {
      "cell_type": "code",
      "source": [
        "celsius_temperatures = [25, 30, 15, 10, 20]\n",
        "\n",
        "fahrenheit_temperatures = list(map(lambda t: 1.8*t + 32, celsius_temperatures))\n",
        "\n",
        "fahrenheit_temperatures"
      ],
      "metadata": {
        "colab": {
          "base_uri": "https://localhost:8080/"
        },
        "id": "OmHngLKOWZUb",
        "outputId": "d135beeb-a5f5-4dc3-b6b7-ebf3d089746c"
      },
      "execution_count": null,
      "outputs": [
        {
          "output_type": "execute_result",
          "data": {
            "text/plain": [
              "[77.0, 86.0, 59.0, 50.0, 68.0]"
            ]
          },
          "metadata": {},
          "execution_count": 17
        }
      ]
    },
    {
      "cell_type": "code",
      "source": [
        "def convert_celsius_to_fahrenheit(temperature):\n",
        "    return 1.8*temperature + 32"
      ],
      "metadata": {
        "id": "4RyjLJ40Wz4p"
      },
      "execution_count": null,
      "outputs": []
    },
    {
      "cell_type": "code",
      "source": [
        "fahrenheit_temperatures = []\n",
        "\n",
        "for celsius_temperature in celsius_temperatures:\n",
        "    fahrenheit_temperature = convert_celsius_to_fahrenheit(\n",
        "        temperature=celsius_temperature)\n",
        "    fahrenheit_temperatures.append(fahrenheit_temperature)"
      ],
      "metadata": {
        "id": "j6HViGXmW8f7"
      },
      "execution_count": null,
      "outputs": []
    },
    {
      "cell_type": "code",
      "source": [
        "fahrenheit_temperatures"
      ],
      "metadata": {
        "colab": {
          "base_uri": "https://localhost:8080/"
        },
        "id": "vRFRPpevXUsq",
        "outputId": "302e2432-aa8a-4fc2-8b0e-857451081c75"
      },
      "execution_count": null,
      "outputs": [
        {
          "output_type": "execute_result",
          "data": {
            "text/plain": [
              "[77.0, 86.0, 59.0, 50.0, 68.0]"
            ]
          },
          "metadata": {},
          "execution_count": 21
        }
      ]
    },
    {
      "cell_type": "code",
      "source": [
        "strings = [\"hello\", \"world\", \"python\"]\n",
        "\n",
        "string_lengths = list(map(lambda string: len(string), strings))\n",
        "\n",
        "string_lengths"
      ],
      "metadata": {
        "colab": {
          "base_uri": "https://localhost:8080/"
        },
        "id": "CmCDrUGiXV6Q",
        "outputId": "ecd402c8-4997-4855-c084-510abdfa6045"
      },
      "execution_count": null,
      "outputs": [
        {
          "output_type": "execute_result",
          "data": {
            "text/plain": [
              "[5, 5, 6]"
            ]
          },
          "metadata": {},
          "execution_count": 23
        }
      ]
    },
    {
      "cell_type": "code",
      "source": [
        "list(map(convert_celsius_to_fahrenheit, celsius_temperatures))"
      ],
      "metadata": {
        "colab": {
          "base_uri": "https://localhost:8080/"
        },
        "id": "Z72AfpiqX7AH",
        "outputId": "e909668f-9477-44fe-f021-50a1832c3e4e"
      },
      "execution_count": null,
      "outputs": [
        {
          "output_type": "execute_result",
          "data": {
            "text/plain": [
              "[77.0, 86.0, 59.0, 50.0, 68.0]"
            ]
          },
          "metadata": {},
          "execution_count": 24
        }
      ]
    },
    {
      "cell_type": "code",
      "source": [
        "a = convert_celsius_to_fahrenheit"
      ],
      "metadata": {
        "id": "lhcAZrC4YZ6H"
      },
      "execution_count": null,
      "outputs": []
    },
    {
      "cell_type": "code",
      "source": [
        "a(10)"
      ],
      "metadata": {
        "colab": {
          "base_uri": "https://localhost:8080/"
        },
        "id": "eR43HmAwYg9I",
        "outputId": "52cbd0bf-6406-4f29-a91a-504cd61f1cac"
      },
      "execution_count": null,
      "outputs": [
        {
          "output_type": "execute_result",
          "data": {
            "text/plain": [
              "50.0"
            ]
          },
          "metadata": {},
          "execution_count": 27
        }
      ]
    },
    {
      "cell_type": "code",
      "source": [
        "numbers = [1, 2, 3, 4, 5, 6, 7, 8, 9, 10]\n",
        "\n",
        "even_numbers = list(filter(lambda x: x % 2 == 0, numbers))\n",
        "\n",
        "even_numbers"
      ],
      "metadata": {
        "colab": {
          "base_uri": "https://localhost:8080/"
        },
        "id": "-rJ2S5UAYn-2",
        "outputId": "f208d2b2-a4c0-49c8-8eac-09ebb408f2f5"
      },
      "execution_count": null,
      "outputs": [
        {
          "output_type": "execute_result",
          "data": {
            "text/plain": [
              "[2, 4, 6, 8, 10]"
            ]
          },
          "metadata": {},
          "execution_count": 28
        }
      ]
    },
    {
      "cell_type": "code",
      "source": [
        "def is_even(x):\n",
        "    return x % 2 == 0"
      ],
      "metadata": {
        "id": "iG98-4JRZWf0"
      },
      "execution_count": null,
      "outputs": []
    },
    {
      "cell_type": "code",
      "source": [
        "even_numbers = []\n",
        "\n",
        "for number in numbers:\n",
        "    if is_even(number):\n",
        "        even_numbers.append(number)"
      ],
      "metadata": {
        "id": "V5leWp04Zir6"
      },
      "execution_count": null,
      "outputs": []
    },
    {
      "cell_type": "code",
      "source": [
        "even_numbers"
      ],
      "metadata": {
        "colab": {
          "base_uri": "https://localhost:8080/"
        },
        "id": "rCq5nqLoZrTH",
        "outputId": "19a9fd23-c4d7-476b-8fa2-1517f8672c43"
      },
      "execution_count": null,
      "outputs": [
        {
          "output_type": "execute_result",
          "data": {
            "text/plain": [
              "[2, 4, 6, 8, 10]"
            ]
          },
          "metadata": {},
          "execution_count": 31
        }
      ]
    },
    {
      "cell_type": "code",
      "source": [
        "numbers = [-3, -2, -1, 0, 1, 2, 3]\n",
        "\n",
        "non_negative_numbers = list(filter(lambda x: x >= 0, numbers))\n",
        "\n",
        "non_negative_numbers"
      ],
      "metadata": {
        "colab": {
          "base_uri": "https://localhost:8080/"
        },
        "id": "nImOwLpWZr9T",
        "outputId": "0d1b7af9-4c64-4700-f7ef-6538f00c632b"
      },
      "execution_count": null,
      "outputs": [
        {
          "output_type": "execute_result",
          "data": {
            "text/plain": [
              "[0, 1, 2, 3]"
            ]
          },
          "metadata": {},
          "execution_count": 32
        }
      ]
    },
    {
      "cell_type": "code",
      "source": [
        "names = [\"Alice\", \"Bob\", \"Charlie\", \"Daniel\", \"Emily\", \"Jane\", \"John\"]\n",
        "\n",
        "filtered_names = list(filter(lambda name: name.startswith(\"J\"), names))\n",
        "\n",
        "filtered_names"
      ],
      "metadata": {
        "colab": {
          "base_uri": "https://localhost:8080/"
        },
        "id": "42SXomJEaHxh",
        "outputId": "1f2cc804-c796-433e-c30b-24e36d56ca46"
      },
      "execution_count": null,
      "outputs": [
        {
          "output_type": "execute_result",
          "data": {
            "text/plain": [
              "['Jane', 'John']"
            ]
          },
          "metadata": {},
          "execution_count": 33
        }
      ]
    },
    {
      "cell_type": "code",
      "source": [
        "from functools import reduce\n",
        "\n",
        "numbers = [1, 2, 3, 4, 5]\n",
        "\n",
        "sum_of_numbers = reduce(lambda x, y: x + y, numbers)\n",
        "\n",
        "sum_of_numbers"
      ],
      "metadata": {
        "colab": {
          "base_uri": "https://localhost:8080/"
        },
        "id": "dW-I6R14aipH",
        "outputId": "e5df1bfa-2f40-48d1-c646-a4884200dc86"
      },
      "execution_count": null,
      "outputs": [
        {
          "output_type": "execute_result",
          "data": {
            "text/plain": [
              "15"
            ]
          },
          "metadata": {},
          "execution_count": 34
        }
      ]
    },
    {
      "cell_type": "code",
      "source": [
        "numbers = [1, 2, 3, 4, 5]\n",
        "\n",
        "max_of_numbers = reduce(lambda x, y: max(x, y), numbers)\n",
        "\n",
        "max_of_numbers"
      ],
      "metadata": {
        "colab": {
          "base_uri": "https://localhost:8080/"
        },
        "id": "HeUmeu16bMvz",
        "outputId": "022d12b1-abc7-4c36-c002-d52f1b803bb8"
      },
      "execution_count": null,
      "outputs": [
        {
          "output_type": "execute_result",
          "data": {
            "text/plain": [
              "5"
            ]
          },
          "metadata": {},
          "execution_count": 35
        }
      ]
    },
    {
      "cell_type": "code",
      "source": [
        "numbers = [1, 2, 3, 4, 5]\n",
        "\n",
        "min_of_numbers = reduce(lambda x, y: min(x, y), numbers)\n",
        "\n",
        "min_of_numbers"
      ],
      "metadata": {
        "colab": {
          "base_uri": "https://localhost:8080/"
        },
        "id": "GN03LC2ZblPY",
        "outputId": "41d4d5ec-1f67-491e-835e-bd8c481d6b8d"
      },
      "execution_count": null,
      "outputs": [
        {
          "output_type": "execute_result",
          "data": {
            "text/plain": [
              "1"
            ]
          },
          "metadata": {},
          "execution_count": 36
        }
      ]
    },
    {
      "cell_type": "code",
      "source": [
        "numbers = [2, 3, 4, 5]\n",
        "\n",
        "product = reduce(lambda x, y: x * y, numbers)\n",
        "\n",
        "print(product)"
      ],
      "metadata": {
        "colab": {
          "base_uri": "https://localhost:8080/"
        },
        "id": "J5C8RJjTbpXD",
        "outputId": "adc7ce97-e3b8-4c6d-f64e-1ad6092d9b58"
      },
      "execution_count": null,
      "outputs": [
        {
          "output_type": "stream",
          "name": "stdout",
          "text": [
            "120\n"
          ]
        }
      ]
    },
    {
      "cell_type": "code",
      "source": [
        "product = 1\n",
        "\n",
        "for number in numbers:\n",
        "    product = product * number\n",
        "\n",
        "print(product)"
      ],
      "metadata": {
        "colab": {
          "base_uri": "https://localhost:8080/"
        },
        "id": "4B5cpvolcKR9",
        "outputId": "fde69c5c-e562-4916-fe09-4dc7e84d7b14"
      },
      "execution_count": null,
      "outputs": [
        {
          "output_type": "stream",
          "name": "stdout",
          "text": [
            "120\n"
          ]
        }
      ]
    },
    {
      "cell_type": "code",
      "source": [
        "strings = [\"Hello\", \" \", \"World\", \"!\"]\n",
        "\n",
        "concatenated_string = reduce(lambda s1, s2: s1 + s2, strings)\n",
        "\n",
        "concatenated_string"
      ],
      "metadata": {
        "colab": {
          "base_uri": "https://localhost:8080/",
          "height": 35
        },
        "id": "j6zBqVYycTdG",
        "outputId": "632de548-736c-45b9-a555-4fd9f58cbe75"
      },
      "execution_count": null,
      "outputs": [
        {
          "output_type": "execute_result",
          "data": {
            "text/plain": [
              "'Hello World!'"
            ],
            "application/vnd.google.colaboratory.intrinsic+json": {
              "type": "string"
            }
          },
          "metadata": {},
          "execution_count": 39
        }
      ]
    },
    {
      "cell_type": "code",
      "source": [
        "nested_list = [[1, 2, 3], [4, 5, 6], [7, 8, 9]]\n",
        "\n",
        "flattened_list = reduce(lambda x, y: x + y, nested_list)\n",
        "\n",
        "flattened_list"
      ],
      "metadata": {
        "colab": {
          "base_uri": "https://localhost:8080/"
        },
        "id": "0O6f1AxFcmUZ",
        "outputId": "a8ac896e-def0-4812-c907-1c3351324dc2"
      },
      "execution_count": null,
      "outputs": [
        {
          "output_type": "execute_result",
          "data": {
            "text/plain": [
              "[1, 2, 3, 4, 5, 6, 7, 8, 9]"
            ]
          },
          "metadata": {},
          "execution_count": 40
        }
      ]
    },
    {
      "cell_type": "code",
      "source": [
        "def factorial(n):\n",
        "    return reduce(lambda x, y: x * y, range(1, n+1))"
      ],
      "metadata": {
        "id": "8uMy14K9dAg8"
      },
      "execution_count": null,
      "outputs": []
    },
    {
      "cell_type": "code",
      "source": [
        "factorial(5)"
      ],
      "metadata": {
        "colab": {
          "base_uri": "https://localhost:8080/"
        },
        "id": "T2umghg7dQ2E",
        "outputId": "85e3202a-f292-42ef-ba6b-e2c484cd0861"
      },
      "execution_count": null,
      "outputs": [
        {
          "output_type": "execute_result",
          "data": {
            "text/plain": [
              "120"
            ]
          },
          "metadata": {},
          "execution_count": 42
        }
      ]
    },
    {
      "cell_type": "code",
      "source": [
        "nested_list = [[5, 2, 3], [4, 1, 6], [7, 8, 9]]\n",
        "\n",
        "flattened_list = sorted(reduce(lambda x, y: x + y, nested_list))\n",
        "\n",
        "flattened_list"
      ],
      "metadata": {
        "colab": {
          "base_uri": "https://localhost:8080/"
        },
        "id": "ioprE08ldSUV",
        "outputId": "5e5f5085-6cb2-4763-b106-9ec6728d51ff"
      },
      "execution_count": null,
      "outputs": [
        {
          "output_type": "execute_result",
          "data": {
            "text/plain": [
              "[1, 2, 3, 4, 5, 6, 7, 8, 9]"
            ]
          },
          "metadata": {},
          "execution_count": 44
        }
      ]
    },
    {
      "cell_type": "code",
      "source": [
        "def squared(x):\n",
        "    return x**2"
      ],
      "metadata": {
        "id": "izJJo6XGdmLe"
      },
      "execution_count": null,
      "outputs": []
    },
    {
      "cell_type": "code",
      "source": [
        "squared_lambda = lambda x: x**2"
      ],
      "metadata": {
        "id": "NPdIXU3WeP-9"
      },
      "execution_count": null,
      "outputs": []
    },
    {
      "cell_type": "code",
      "source": [
        "%%timeit\n",
        "\n",
        "a = list(map(squared, range(100000)))"
      ],
      "metadata": {
        "colab": {
          "base_uri": "https://localhost:8080/"
        },
        "id": "lRdCAJQJeUEh",
        "outputId": "8423e326-d688-4840-b7dc-c737bbd25e58"
      },
      "execution_count": null,
      "outputs": [
        {
          "output_type": "stream",
          "name": "stdout",
          "text": [
            "35.3 ms ± 1.39 ms per loop (mean ± std. dev. of 7 runs, 10 loops each)\n"
          ]
        }
      ]
    },
    {
      "cell_type": "code",
      "source": [
        "%%timeit\n",
        "\n",
        "a = list(map(squared_lambda, range(100000)))"
      ],
      "metadata": {
        "colab": {
          "base_uri": "https://localhost:8080/"
        },
        "id": "BSuRPynAeeCC",
        "outputId": "790edf62-a772-4249-daf0-b678e60328ab"
      },
      "execution_count": null,
      "outputs": [
        {
          "output_type": "stream",
          "name": "stdout",
          "text": [
            "34.8 ms ± 620 µs per loop (mean ± std. dev. of 7 runs, 10 loops each)\n"
          ]
        }
      ]
    },
    {
      "cell_type": "markdown",
      "source": [
        "## Regular Expressions (REGEX)"
      ],
      "metadata": {
        "id": "rgUgZdxIh7BZ"
      }
    },
    {
      "cell_type": "code",
      "source": [
        "import re"
      ],
      "metadata": {
        "id": "ok-SxwpiegnC"
      },
      "execution_count": null,
      "outputs": []
    },
    {
      "cell_type": "code",
      "source": [
        "text = \"I have an apple and an orange.\"\n",
        "\n",
        "pattern = r\"apple\""
      ],
      "metadata": {
        "id": "g2v2bJZZqNSe"
      },
      "execution_count": null,
      "outputs": []
    },
    {
      "cell_type": "code",
      "source": [
        "matched = re.search(pattern, text)"
      ],
      "metadata": {
        "id": "p83SMYW_qb-S"
      },
      "execution_count": null,
      "outputs": []
    },
    {
      "cell_type": "code",
      "source": [
        "if matched:\n",
        "    print(\"Match found!\")\n",
        "else:\n",
        "    print(\"Match not found!\")"
      ],
      "metadata": {
        "colab": {
          "base_uri": "https://localhost:8080/"
        },
        "id": "J_SiB7vGqfD5",
        "outputId": "aeef82f4-da20-4497-cd42-61452ef5d5e2"
      },
      "execution_count": null,
      "outputs": [
        {
          "output_type": "stream",
          "name": "stdout",
          "text": [
            "Match found!\n"
          ]
        }
      ]
    },
    {
      "cell_type": "code",
      "source": [
        "matched"
      ],
      "metadata": {
        "colab": {
          "base_uri": "https://localhost:8080/"
        },
        "id": "fb7YjjqWqodQ",
        "outputId": "2e80c36c-2a1a-420a-9e87-2489d4678e01"
      },
      "execution_count": null,
      "outputs": [
        {
          "output_type": "execute_result",
          "data": {
            "text/plain": [
              "<re.Match object; span=(10, 15), match='apple'>"
            ]
          },
          "metadata": {},
          "execution_count": 74
        }
      ]
    },
    {
      "cell_type": "code",
      "source": [
        "matched = re.match(pattern, text)"
      ],
      "metadata": {
        "id": "1Kv07-CkqrRO"
      },
      "execution_count": null,
      "outputs": []
    },
    {
      "cell_type": "code",
      "source": [
        "if matched:\n",
        "    print(\"Match found!\")\n",
        "else:\n",
        "    print(\"Match not found!\")"
      ],
      "metadata": {
        "colab": {
          "base_uri": "https://localhost:8080/"
        },
        "id": "WwClvnvCq2MK",
        "outputId": "b435d4d3-56cf-4649-895a-383c59257ce3"
      },
      "execution_count": null,
      "outputs": [
        {
          "output_type": "stream",
          "name": "stdout",
          "text": [
            "Match not found!\n"
          ]
        }
      ]
    },
    {
      "cell_type": "code",
      "source": [
        "text = \"I have an apple and an orange.\"\n",
        "\n",
        "pattern = r\"I have\"\n",
        "\n",
        "matched = re.match(pattern, text)\n",
        "\n",
        "print(matched)"
      ],
      "metadata": {
        "colab": {
          "base_uri": "https://localhost:8080/"
        },
        "id": "pciEj6ebsqLy",
        "outputId": "9e28155e-7043-4120-ca37-adfff85ea851"
      },
      "execution_count": null,
      "outputs": [
        {
          "output_type": "stream",
          "name": "stdout",
          "text": [
            "<re.Match object; span=(0, 6), match='I have'>\n"
          ]
        }
      ]
    },
    {
      "cell_type": "code",
      "source": [
        "text = \"I have an apple and an orange. apples are tasty\"\n",
        "\n",
        "pattern = r\"apple\\w*\"\n",
        "\n",
        "matches = re.findall(pattern, text)"
      ],
      "metadata": {
        "id": "nSFQ7VlurPxY"
      },
      "execution_count": null,
      "outputs": []
    },
    {
      "cell_type": "code",
      "source": [
        "for matched in matches:\n",
        "    print(f\"Match: {matched}\")"
      ],
      "metadata": {
        "colab": {
          "base_uri": "https://localhost:8080/"
        },
        "id": "EWZ_xXuPr5Vx",
        "outputId": "6aeead74-f950-4d28-df35-12e055d0b999"
      },
      "execution_count": null,
      "outputs": [
        {
          "output_type": "stream",
          "name": "stdout",
          "text": [
            "Match: apple\n",
            "Match: apples\n"
          ]
        }
      ]
    },
    {
      "cell_type": "code",
      "source": [
        "text = \"I have an apple and an orange. apples are tasty\"\n",
        "\n",
        "pattern = r\"apple\\w*\"\n",
        "\n",
        "matches = re.finditer(pattern, text)\n",
        "\n",
        "for matched in matches:\n",
        "    print(matched)"
      ],
      "metadata": {
        "colab": {
          "base_uri": "https://localhost:8080/"
        },
        "id": "6k80VGOEr57B",
        "outputId": "b298e8c7-688b-4679-fae4-9b6d642da688"
      },
      "execution_count": null,
      "outputs": [
        {
          "output_type": "stream",
          "name": "stdout",
          "text": [
            "<re.Match object; span=(10, 15), match='apple'>\n",
            "<re.Match object; span=(31, 37), match='apples'>\n"
          ]
        }
      ]
    },
    {
      "cell_type": "code",
      "source": [
        "text = \"I have an apple and an orange. apples are tasty.\"\n",
        "\n",
        "pattern = r\"apple\"\n",
        "\n",
        "print(len(re.findall(pattern, text)))\n",
        "\n",
        "print(re.search(pattern, text))"
      ],
      "metadata": {
        "colab": {
          "base_uri": "https://localhost:8080/"
        },
        "id": "hn7HZLR8sb_5",
        "outputId": "eda6a2f1-be06-4a57-fb5b-2793e6cbf666"
      },
      "execution_count": null,
      "outputs": [
        {
          "output_type": "stream",
          "name": "stdout",
          "text": [
            "2\n",
            "<re.Match object; span=(10, 15), match='apple'>\n"
          ]
        }
      ]
    },
    {
      "cell_type": "code",
      "source": [
        "text = \"I have an apple and an orange. apples are tasty. also pineapples\"\n",
        "\n",
        "pattern = r\"\\w*apple\\w*\"\n",
        "\n",
        "new_text = re.sub(pattern, \"banana\", text)"
      ],
      "metadata": {
        "id": "R4bqeFyYtHFp"
      },
      "execution_count": null,
      "outputs": []
    },
    {
      "cell_type": "code",
      "source": [
        "new_text"
      ],
      "metadata": {
        "colab": {
          "base_uri": "https://localhost:8080/",
          "height": 35
        },
        "id": "P7oKQJVvu4EH",
        "outputId": "4814900d-89e0-4de9-9d7d-f66d1c396933"
      },
      "execution_count": null,
      "outputs": [
        {
          "output_type": "execute_result",
          "data": {
            "text/plain": [
              "'I have an banana and an orange. banana are tasty. also banana'"
            ],
            "application/vnd.google.colaboratory.intrinsic+json": {
              "type": "string"
            }
          },
          "metadata": {},
          "execution_count": 102
        }
      ]
    },
    {
      "cell_type": "code",
      "source": [
        "text = \"I have an apple and     an orange. apples are tasty \\t also pineapples\"\n",
        "\n",
        "pattern = r\"\\s+\"\n",
        "\n",
        "words = re.split(pattern, text)\n",
        "\n",
        "for word in words:\n",
        "    print(word)"
      ],
      "metadata": {
        "colab": {
          "base_uri": "https://localhost:8080/"
        },
        "id": "GnYBuKKVu44m",
        "outputId": "ecbfcafc-cb64-4975-b4b8-6956a890b73d"
      },
      "execution_count": null,
      "outputs": [
        {
          "output_type": "stream",
          "name": "stdout",
          "text": [
            "I\n",
            "have\n",
            "an\n",
            "apple\n",
            "and\n",
            "an\n",
            "orange.\n",
            "apples\n",
            "are\n",
            "tasty\n",
            "also\n",
            "pineapples\n"
          ]
        }
      ]
    },
    {
      "cell_type": "code",
      "source": [
        "words"
      ],
      "metadata": {
        "colab": {
          "base_uri": "https://localhost:8080/"
        },
        "id": "sNwaPQxevf9f",
        "outputId": "917c5dc2-b24e-43eb-ee88-2863aa530eec"
      },
      "execution_count": null,
      "outputs": [
        {
          "output_type": "execute_result",
          "data": {
            "text/plain": [
              "['I',\n",
              " 'have',\n",
              " 'an',\n",
              " 'apple',\n",
              " 'and',\n",
              " 'an',\n",
              " 'orange.',\n",
              " 'apples',\n",
              " 'are',\n",
              " 'tasty',\n",
              " 'also',\n",
              " 'pineapples']"
            ]
          },
          "metadata": {},
          "execution_count": 107
        }
      ]
    },
    {
      "cell_type": "markdown",
      "source": [
        "## Date And Time In Python"
      ],
      "metadata": {
        "id": "D5NRC7GbzgM5"
      }
    },
    {
      "cell_type": "code",
      "source": [
        "import datetime\n",
        "\n",
        "import pytz"
      ],
      "metadata": {
        "id": "flcc05JRv_ml"
      },
      "execution_count": null,
      "outputs": []
    },
    {
      "cell_type": "code",
      "source": [
        "datetime.MINYEAR"
      ],
      "metadata": {
        "colab": {
          "base_uri": "https://localhost:8080/"
        },
        "id": "DAQnP5hpzsnS",
        "outputId": "204076cd-b4d0-4fcd-e50d-9f525152791f"
      },
      "execution_count": null,
      "outputs": [
        {
          "output_type": "execute_result",
          "data": {
            "text/plain": [
              "1"
            ]
          },
          "metadata": {},
          "execution_count": 109
        }
      ]
    },
    {
      "cell_type": "code",
      "source": [
        "datetime.MAXYEAR"
      ],
      "metadata": {
        "colab": {
          "base_uri": "https://localhost:8080/"
        },
        "id": "D9zIdFuj0EHn",
        "outputId": "3990d924-36b4-4d51-db67-f576097dfd8f"
      },
      "execution_count": null,
      "outputs": [
        {
          "output_type": "execute_result",
          "data": {
            "text/plain": [
              "9999"
            ]
          },
          "metadata": {},
          "execution_count": 110
        }
      ]
    },
    {
      "cell_type": "code",
      "source": [
        "current_date = datetime.date.today()\n",
        "\n",
        "current_date"
      ],
      "metadata": {
        "colab": {
          "base_uri": "https://localhost:8080/"
        },
        "id": "NsBd7ziw0GeW",
        "outputId": "7529049e-01a2-4a7b-c24b-d7fd58899651"
      },
      "execution_count": null,
      "outputs": [
        {
          "output_type": "execute_result",
          "data": {
            "text/plain": [
              "datetime.date(2023, 7, 2)"
            ]
          },
          "metadata": {},
          "execution_count": 111
        }
      ]
    },
    {
      "cell_type": "code",
      "source": [
        "current_date_string = current_date.strftime(\"%Y-%m-%d is a %a in %b\")\n",
        "\n",
        "print(current_date_string)"
      ],
      "metadata": {
        "colab": {
          "base_uri": "https://localhost:8080/"
        },
        "id": "UAbJsG700fhE",
        "outputId": "a3abe1ef-f61a-4c83-b3ce-c913b02f6498"
      },
      "execution_count": null,
      "outputs": [
        {
          "output_type": "stream",
          "name": "stdout",
          "text": [
            "2023-07-02 is a Sun in Jul\n"
          ]
        }
      ]
    },
    {
      "cell_type": "code",
      "source": [
        "current_datetime = datetime.datetime.now()"
      ],
      "metadata": {
        "id": "MO9CmIzv1ZO0"
      },
      "execution_count": null,
      "outputs": []
    },
    {
      "cell_type": "code",
      "source": [
        "current_time = current_datetime.time()"
      ],
      "metadata": {
        "id": "0jgJJmbV2NKo"
      },
      "execution_count": null,
      "outputs": []
    },
    {
      "cell_type": "code",
      "source": [
        "current_time"
      ],
      "metadata": {
        "colab": {
          "base_uri": "https://localhost:8080/"
        },
        "id": "1MzfPbnW2Oyr",
        "outputId": "4d6b4ba0-98da-4a91-9f3c-28f33878b83e"
      },
      "execution_count": null,
      "outputs": [
        {
          "output_type": "execute_result",
          "data": {
            "text/plain": [
              "datetime.time(18, 25, 1, 195000)"
            ]
          },
          "metadata": {},
          "execution_count": 124
        }
      ]
    },
    {
      "cell_type": "code",
      "source": [
        "current_date = current_datetime.date()"
      ],
      "metadata": {
        "id": "vwckdceN2fxD"
      },
      "execution_count": null,
      "outputs": []
    },
    {
      "cell_type": "code",
      "source": [
        "current_date"
      ],
      "metadata": {
        "colab": {
          "base_uri": "https://localhost:8080/"
        },
        "id": "IyOetm4C2kGX",
        "outputId": "bfe87e68-ef4f-41fc-8796-c035cdc86dd5"
      },
      "execution_count": null,
      "outputs": [
        {
          "output_type": "execute_result",
          "data": {
            "text/plain": [
              "datetime.date(2023, 7, 2)"
            ]
          },
          "metadata": {},
          "execution_count": 126
        }
      ]
    },
    {
      "cell_type": "code",
      "source": [
        "date_string = \"2023-July-25\"\n",
        "\n",
        "parsed_date = datetime.datetime.strptime(date_string, \"%Y-%B-%d\")"
      ],
      "metadata": {
        "id": "7HbA4MrV2kvn"
      },
      "execution_count": null,
      "outputs": []
    },
    {
      "cell_type": "code",
      "source": [
        "parsed_date.strftime(\"%Y %m %d\")"
      ],
      "metadata": {
        "colab": {
          "base_uri": "https://localhost:8080/",
          "height": 35
        },
        "id": "Bbi5mJbh3GXP",
        "outputId": "48abbd55-dfcc-4c59-b508-d098cb3f2e5d"
      },
      "execution_count": null,
      "outputs": [
        {
          "output_type": "execute_result",
          "data": {
            "text/plain": [
              "'2023 07 25'"
            ],
            "application/vnd.google.colaboratory.intrinsic+json": {
              "type": "string"
            }
          },
          "metadata": {},
          "execution_count": 131
        }
      ]
    },
    {
      "cell_type": "code",
      "source": [
        "custom_date = datetime.date(2023, 7, 1)\n",
        "custom_time = datetime.time(12, 30, )"
      ],
      "metadata": {
        "id": "_qJ9C2bK3HJc"
      },
      "execution_count": null,
      "outputs": []
    },
    {
      "cell_type": "code",
      "source": [
        "timezone = pytz.timezone(\"Asia/Tehran\")"
      ],
      "metadata": {
        "id": "4gfq3-Cj3248"
      },
      "execution_count": null,
      "outputs": []
    },
    {
      "cell_type": "code",
      "source": [
        "custom_time = datetime.time(12, 30, tzinfo=timezone)"
      ],
      "metadata": {
        "id": "v-YLn-UU4SsF"
      },
      "execution_count": null,
      "outputs": []
    },
    {
      "cell_type": "code",
      "source": [
        "custom_time"
      ],
      "metadata": {
        "colab": {
          "base_uri": "https://localhost:8080/"
        },
        "id": "8hP1ru_G4m3I",
        "outputId": "8fc21cc7-042d-43dd-c8c9-e1522b366a53"
      },
      "execution_count": null,
      "outputs": [
        {
          "output_type": "execute_result",
          "data": {
            "text/plain": [
              "datetime.time(12, 30, tzinfo=<DstTzInfo 'Asia/Tehran' LMT+3:26:00 STD>)"
            ]
          },
          "metadata": {},
          "execution_count": 138
        }
      ]
    },
    {
      "cell_type": "code",
      "source": [
        "custom_datetime = datetime.datetime(2023, 7, 1, 12, 30, tzinfo=timezone)"
      ],
      "metadata": {
        "id": "2hf-S8it4wwY"
      },
      "execution_count": null,
      "outputs": []
    },
    {
      "cell_type": "code",
      "source": [
        "custom_datetime.utctimetuple()"
      ],
      "metadata": {
        "colab": {
          "base_uri": "https://localhost:8080/"
        },
        "id": "7TKA2aVy5Lfp",
        "outputId": "7818ac17-3677-4dca-bcae-65644a7bb5ca"
      },
      "execution_count": null,
      "outputs": [
        {
          "output_type": "execute_result",
          "data": {
            "text/plain": [
              "time.struct_time(tm_year=2023, tm_mon=7, tm_mday=1, tm_hour=9, tm_min=4, tm_sec=0, tm_wday=5, tm_yday=182, tm_isdst=0)"
            ]
          },
          "metadata": {},
          "execution_count": 141
        }
      ]
    },
    {
      "cell_type": "code",
      "source": [],
      "metadata": {
        "id": "kxkmg5cH5MOR"
      },
      "execution_count": null,
      "outputs": []
    }
  ]
}
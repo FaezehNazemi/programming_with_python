{
  "nbformat": 4,
  "nbformat_minor": 0,
  "metadata": {
    "colab": {
      "provenance": [],
      "authorship_tag": "ABX9TyPyCg7OuoATuVUrppoiV51x"
    },
    "kernelspec": {
      "name": "python3",
      "display_name": "Python 3"
    },
    "language_info": {
      "name": "python"
    }
  },
  "cells": [
    {
      "cell_type": "code",
      "execution_count": null,
      "metadata": {
        "id": "47nfHl1jSyQ1"
      },
      "outputs": [],
      "source": [
        "class Employee:\n",
        "\n",
        "    def __init__(self, name, age, years_of_experience, role):\n",
        "        self.name = name\n",
        "        self.age = age\n",
        "        self.years_of_experience = years_of_experience\n",
        "        self.role = role\n",
        "\n",
        "    def calculate_salary(self):\n",
        "        if self.role == \"boss\":\n",
        "            salary_base_level = 8000\n",
        "            salary_yearly_increment = 1500\n",
        "        else:\n",
        "            salary_base_level = 3000\n",
        "            salary_yearly_increment = 500\n",
        "        salary = salary_base_level + self.years_of_experience * salary_yearly_increment\n",
        "        return salary"
      ]
    },
    {
      "cell_type": "code",
      "source": [
        "employee_1 = Employee(name=\"ali\", age=27, years_of_experience=3, role=\"normal\")\n",
        "employee_2 = Employee(name=\"hassan\", age=36, years_of_experience=13, role=\"boss\")"
      ],
      "metadata": {
        "id": "5cFOQAd4UUN-"
      },
      "execution_count": null,
      "outputs": []
    },
    {
      "cell_type": "code",
      "source": [
        "print(employee_1.name)\n",
        "print(employee_1.age)\n",
        "print(employee_1.years_of_experience)\n",
        "print(employee_1.role)\n",
        "\n",
        "salary = employee_1.calculate_salary()\n",
        "print(salary)"
      ],
      "metadata": {
        "colab": {
          "base_uri": "https://localhost:8080/"
        },
        "id": "9Jw9ql7sUnEW",
        "outputId": "f8c2eb4c-0a09-458a-e26b-67449ebbbcdb"
      },
      "execution_count": null,
      "outputs": [
        {
          "output_type": "stream",
          "name": "stdout",
          "text": [
            "ali\n",
            "27\n",
            "3\n",
            "normal\n",
            "4500\n"
          ]
        }
      ]
    },
    {
      "cell_type": "code",
      "source": [
        "print(employee_2.name)\n",
        "print(employee_2.age)\n",
        "print(employee_2.years_of_experience)\n",
        "print(employee_2.role)\n",
        "\n",
        "salary = employee_2.calculate_salary()\n",
        "print(salary)"
      ],
      "metadata": {
        "colab": {
          "base_uri": "https://localhost:8080/"
        },
        "id": "Q8PPdGdGU8wX",
        "outputId": "970f6919-8609-408a-c7e5-4ca512b44481"
      },
      "execution_count": null,
      "outputs": [
        {
          "output_type": "stream",
          "name": "stdout",
          "text": [
            "hassan\n",
            "36\n",
            "13\n",
            "boss\n",
            "27500\n"
          ]
        }
      ]
    },
    {
      "cell_type": "code",
      "source": [
        "all_employees = [\n",
        "    Employee(name=\"ali\", age=27, years_of_experience=3, role=\"normal\"),\n",
        "    Employee(name=\"hassan\", age=36, years_of_experience=13, role=\"boss\")\n",
        "]"
      ],
      "metadata": {
        "id": "o1Sr5XhWUrDI"
      },
      "execution_count": null,
      "outputs": []
    },
    {
      "cell_type": "code",
      "source": [
        "for employee in all_employees:\n",
        "    salary = employee.calculate_salary()\n",
        "    print(employee.name, employee.age, employee.years_of_experience, employee.role, salary)"
      ],
      "metadata": {
        "colab": {
          "base_uri": "https://localhost:8080/"
        },
        "id": "7e46sr-6VGU3",
        "outputId": "a832bf08-77bf-4e3f-b545-5360c9eb6d2b"
      },
      "execution_count": null,
      "outputs": [
        {
          "output_type": "stream",
          "name": "stdout",
          "text": [
            "ali 27 3 normal 4500\n",
            "hassan 36 13 boss 27500\n"
          ]
        }
      ]
    },
    {
      "cell_type": "code",
      "source": [
        "class Dog:\n",
        "    pass"
      ],
      "metadata": {
        "id": "vVSqyiP-XA87"
      },
      "execution_count": null,
      "outputs": []
    },
    {
      "cell_type": "code",
      "source": [
        "my_dog = Dog()"
      ],
      "metadata": {
        "id": "B9-9uzrQX0uh"
      },
      "execution_count": null,
      "outputs": []
    },
    {
      "cell_type": "code",
      "source": [
        "isinstance(my_dog, Dog)"
      ],
      "metadata": {
        "colab": {
          "base_uri": "https://localhost:8080/"
        },
        "id": "2gfp1iOPX1vd",
        "outputId": "9da2cf36-ea74-4dcf-fade-4cb906cc6926"
      },
      "execution_count": null,
      "outputs": [
        {
          "output_type": "execute_result",
          "data": {
            "text/plain": [
              "True"
            ]
          },
          "metadata": {},
          "execution_count": 15
        }
      ]
    },
    {
      "cell_type": "code",
      "source": [
        "isinstance(1, int)"
      ],
      "metadata": {
        "colab": {
          "base_uri": "https://localhost:8080/"
        },
        "id": "FW2-iE1uX5A8",
        "outputId": "3e0f3bc7-da7e-4dc9-f740-3420308ce990"
      },
      "execution_count": null,
      "outputs": [
        {
          "output_type": "execute_result",
          "data": {
            "text/plain": [
              "True"
            ]
          },
          "metadata": {},
          "execution_count": 16
        }
      ]
    },
    {
      "cell_type": "code",
      "source": [
        "class Dog:\n",
        "\n",
        "    def __init__(self, breed):\n",
        "        self.breed = breed\n",
        "\n",
        "    def bark(self):\n",
        "        print(\"woof\")\n",
        "\n",
        "    def get_breed(self):\n",
        "        return self.breed"
      ],
      "metadata": {
        "id": "q-MZOEbaX7Zh"
      },
      "execution_count": null,
      "outputs": []
    },
    {
      "cell_type": "code",
      "source": [
        "my_dog = Dog(breed=\"german\")"
      ],
      "metadata": {
        "id": "HsKj-fw_X-uK"
      },
      "execution_count": null,
      "outputs": []
    },
    {
      "cell_type": "code",
      "source": [
        "my_dog.bark()"
      ],
      "metadata": {
        "colab": {
          "base_uri": "https://localhost:8080/"
        },
        "id": "QMUTdcB8YgMK",
        "outputId": "2b5aa457-48cb-4cf5-c1db-cc399e4424d3"
      },
      "execution_count": null,
      "outputs": [
        {
          "output_type": "stream",
          "name": "stdout",
          "text": [
            "woof\n"
          ]
        }
      ]
    },
    {
      "cell_type": "code",
      "source": [
        "my_dog.breed"
      ],
      "metadata": {
        "colab": {
          "base_uri": "https://localhost:8080/",
          "height": 35
        },
        "id": "TJ2rTV2DYhSF",
        "outputId": "f6148c67-d635-435b-9ba7-9c178e2c4f93"
      },
      "execution_count": null,
      "outputs": [
        {
          "output_type": "execute_result",
          "data": {
            "text/plain": [
              "'german'"
            ],
            "application/vnd.google.colaboratory.intrinsic+json": {
              "type": "string"
            }
          },
          "metadata": {},
          "execution_count": 38
        }
      ]
    },
    {
      "cell_type": "code",
      "source": [
        "my_dog.get_breed()"
      ],
      "metadata": {
        "colab": {
          "base_uri": "https://localhost:8080/",
          "height": 35
        },
        "id": "j04e8a7OYkTI",
        "outputId": "c52bd5f5-d774-41b1-8189-e55b078407e5"
      },
      "execution_count": null,
      "outputs": [
        {
          "output_type": "execute_result",
          "data": {
            "text/plain": [
              "'german'"
            ],
            "application/vnd.google.colaboratory.intrinsic+json": {
              "type": "string"
            }
          },
          "metadata": {},
          "execution_count": 39
        }
      ]
    },
    {
      "cell_type": "code",
      "source": [
        "Dog.get_breed(self=my_dog)"
      ],
      "metadata": {
        "colab": {
          "base_uri": "https://localhost:8080/",
          "height": 35
        },
        "id": "a4BlDQneZIK-",
        "outputId": "dfb2470c-0e2b-4fc0-bfcf-da376e889b28"
      },
      "execution_count": null,
      "outputs": [
        {
          "output_type": "execute_result",
          "data": {
            "text/plain": [
              "'german'"
            ],
            "application/vnd.google.colaboratory.intrinsic+json": {
              "type": "string"
            }
          },
          "metadata": {},
          "execution_count": 40
        }
      ]
    },
    {
      "cell_type": "code",
      "source": [
        "class Dog:\n",
        "\n",
        "    def __init__(self, breed):\n",
        "        self.breed = breed\n",
        "\n",
        "    def bark(self):\n",
        "        print(\"woof\")\n",
        "\n",
        "    def get_breed(self):\n",
        "        return self.breed"
      ],
      "metadata": {
        "id": "uA-U5UW2ZY3U"
      },
      "execution_count": null,
      "outputs": []
    },
    {
      "cell_type": "code",
      "source": [
        "class GermanDog(Dog):\n",
        "\n",
        "    def __init__(self):\n",
        "        super().__init__(breed=\"german\")"
      ],
      "metadata": {
        "id": "5_OIilETaagy"
      },
      "execution_count": null,
      "outputs": []
    },
    {
      "cell_type": "code",
      "source": [
        "dog = GermanDog()"
      ],
      "metadata": {
        "id": "gKdkGoJsa1y3"
      },
      "execution_count": null,
      "outputs": []
    },
    {
      "cell_type": "code",
      "source": [
        "dog.bark()"
      ],
      "metadata": {
        "colab": {
          "base_uri": "https://localhost:8080/"
        },
        "id": "eli8OIBSa6C-",
        "outputId": "b0f01d0f-ffb1-4dbc-e34f-88230f1ad8b3"
      },
      "execution_count": null,
      "outputs": [
        {
          "output_type": "stream",
          "name": "stdout",
          "text": [
            "woof\n"
          ]
        }
      ]
    },
    {
      "cell_type": "code",
      "source": [
        "dog.get_breed()"
      ],
      "metadata": {
        "colab": {
          "base_uri": "https://localhost:8080/",
          "height": 35
        },
        "id": "AbMxVrYma7aO",
        "outputId": "6f58cd6b-2641-45fa-f6b0-b278f90b1725"
      },
      "execution_count": null,
      "outputs": [
        {
          "output_type": "execute_result",
          "data": {
            "text/plain": [
              "'german'"
            ],
            "application/vnd.google.colaboratory.intrinsic+json": {
              "type": "string"
            }
          },
          "metadata": {},
          "execution_count": 45
        }
      ]
    },
    {
      "cell_type": "code",
      "source": [
        "isinstance(dog, GermanDog)"
      ],
      "metadata": {
        "colab": {
          "base_uri": "https://localhost:8080/"
        },
        "id": "Wm85pcD4a87L",
        "outputId": "00c0e762-d600-48a8-e4e6-841984bac6b9"
      },
      "execution_count": null,
      "outputs": [
        {
          "output_type": "execute_result",
          "data": {
            "text/plain": [
              "True"
            ]
          },
          "metadata": {},
          "execution_count": 46
        }
      ]
    },
    {
      "cell_type": "code",
      "source": [
        "isinstance(dog, Dog)"
      ],
      "metadata": {
        "colab": {
          "base_uri": "https://localhost:8080/"
        },
        "id": "UsXMJZ-qbKsN",
        "outputId": "4838804f-442b-4e2d-fad6-3f26158b9dc9"
      },
      "execution_count": null,
      "outputs": [
        {
          "output_type": "execute_result",
          "data": {
            "text/plain": [
              "True"
            ]
          },
          "metadata": {},
          "execution_count": 47
        }
      ]
    },
    {
      "cell_type": "code",
      "source": [
        "class WeirdDog(Dog):\n",
        "\n",
        "    def __init__(self):\n",
        "        super().__init__(breed=\"weird\")\n",
        "\n",
        "    def bark(self):\n",
        "        print(\"woof woof\")\n",
        "        super().bark()"
      ],
      "metadata": {
        "id": "6NaRRbrpbMHJ"
      },
      "execution_count": null,
      "outputs": []
    },
    {
      "cell_type": "code",
      "source": [
        "dog_2 = WeirdDog()\n",
        "\n",
        "dog_2.bark()\n",
        "\n",
        "dog_2.get_breed()"
      ],
      "metadata": {
        "colab": {
          "base_uri": "https://localhost:8080/",
          "height": 70
        },
        "id": "7MvkL2TqcER0",
        "outputId": "b2ce87ae-0ead-43c0-a39b-93335a45e011"
      },
      "execution_count": null,
      "outputs": [
        {
          "output_type": "stream",
          "name": "stdout",
          "text": [
            "woof woof\n",
            "woof\n"
          ]
        },
        {
          "output_type": "execute_result",
          "data": {
            "text/plain": [
              "'weird'"
            ],
            "application/vnd.google.colaboratory.intrinsic+json": {
              "type": "string"
            }
          },
          "metadata": {},
          "execution_count": 54
        }
      ]
    },
    {
      "cell_type": "code",
      "source": [
        "class Dog:\n",
        "\n",
        "    def __init__(self, breed):\n",
        "        self._breed = breed\n",
        "\n",
        "    def bark(self):\n",
        "        print(\"woof\")\n",
        "\n",
        "    def get_breed(self):\n",
        "        return self._breed"
      ],
      "metadata": {
        "id": "WIckl_spcIFh"
      },
      "execution_count": null,
      "outputs": []
    },
    {
      "cell_type": "code",
      "source": [
        "dog = Dog(breed=\"something\")"
      ],
      "metadata": {
        "id": "IsDj56CcdSjf"
      },
      "execution_count": null,
      "outputs": []
    },
    {
      "cell_type": "code",
      "source": [
        "dog._breed"
      ],
      "metadata": {
        "colab": {
          "base_uri": "https://localhost:8080/",
          "height": 35
        },
        "id": "F-erfn20dV-1",
        "outputId": "669abc40-c5bd-4a36-d0b0-705e32c447a0"
      },
      "execution_count": null,
      "outputs": [
        {
          "output_type": "execute_result",
          "data": {
            "text/plain": [
              "'something'"
            ],
            "application/vnd.google.colaboratory.intrinsic+json": {
              "type": "string"
            }
          },
          "metadata": {},
          "execution_count": 62
        }
      ]
    },
    {
      "cell_type": "code",
      "source": [
        "class Employee:\n",
        "\n",
        "    def __init__(self, name, age, yoe, role):\n",
        "        self.name = name\n",
        "        self.age = age\n",
        "        self.yoe = yoe\n",
        "        self.role = role\n",
        "\n",
        "    def __get_salary_base_level_and_increment(self):\n",
        "        if self.role == \"boss\":\n",
        "            salary_base_level = 8000\n",
        "            salary_yearly_increment = 1500\n",
        "        else:\n",
        "            salary_base_level = 3000\n",
        "            salary_yearly_increment = 500\n",
        "        return salary_base_level, salary_yearly_increment\n",
        "\n",
        "    def __calculate_net_salary(self, salary_base_level, salary_yearly_increment):\n",
        "        gross_salary = salary_base_level + self.yoe * salary_yearly_increment\n",
        "        salary = 0.7 * gross_salary\n",
        "        return salary\n",
        "\n",
        "    def calculate_salary(self):\n",
        "        salary_base_level, salary_yearly_increment = self.__get_salary_base_level_and_increment()\n",
        "        salary = self.__calculate_net_salary(salary_base_level=salary_base_level,\n",
        "                                             salary_yearly_increment=salary_yearly_increment)\n",
        "        return salary"
      ],
      "metadata": {
        "id": "AHvnFx9IdkU7"
      },
      "execution_count": null,
      "outputs": []
    },
    {
      "cell_type": "code",
      "source": [
        "emp = Employee(name=\"ali\", age=27, yoe=3, role=\"normal\")"
      ],
      "metadata": {
        "id": "n-UYwgN3ffr1"
      },
      "execution_count": null,
      "outputs": []
    },
    {
      "cell_type": "code",
      "source": [
        "class Dog:\n",
        "\n",
        "    def __init__(self, name, breed):\n",
        "        self.name = name\n",
        "        self.breed = breed\n",
        "\n",
        "    def bark(self):\n",
        "        print(\"woof\")\n",
        "\n",
        "    def jump(self):\n",
        "        print(f\"The {self.name} has jumped\")"
      ],
      "metadata": {
        "id": "aRRBl9Jifl-u"
      },
      "execution_count": null,
      "outputs": []
    },
    {
      "cell_type": "code",
      "source": [
        "class Person:\n",
        "\n",
        "    def __init__(self, name, dog):\n",
        "        self.name = name\n",
        "        self.dog = dog\n",
        "\n",
        "    def say_the_dog_to_jump(self):\n",
        "        self.dog.jump()"
      ],
      "metadata": {
        "id": "B_4eN38enTAu"
      },
      "execution_count": null,
      "outputs": []
    },
    {
      "cell_type": "code",
      "source": [
        "dog = Dog(name=\"puppy\", breed=\"german\")"
      ],
      "metadata": {
        "id": "LxrAYWGwncjN"
      },
      "execution_count": null,
      "outputs": []
    },
    {
      "cell_type": "code",
      "source": [
        "person = Person(name=\"james\", dog=dog)"
      ],
      "metadata": {
        "id": "jT_Wqy0Hnjhw"
      },
      "execution_count": null,
      "outputs": []
    },
    {
      "cell_type": "code",
      "source": [
        "person.name"
      ],
      "metadata": {
        "colab": {
          "base_uri": "https://localhost:8080/",
          "height": 35
        },
        "id": "0wCYDh-Gno7b",
        "outputId": "b67a1acd-9547-4ea5-bf08-f6c3db391d9a"
      },
      "execution_count": null,
      "outputs": [
        {
          "output_type": "execute_result",
          "data": {
            "text/plain": [
              "'james'"
            ],
            "application/vnd.google.colaboratory.intrinsic+json": {
              "type": "string"
            }
          },
          "metadata": {},
          "execution_count": 78
        }
      ]
    },
    {
      "cell_type": "code",
      "source": [
        "person.dog.name"
      ],
      "metadata": {
        "colab": {
          "base_uri": "https://localhost:8080/",
          "height": 35
        },
        "id": "upuLJ52xnqsK",
        "outputId": "f8d62136-5547-4abf-83b8-ae6a658e8bb9"
      },
      "execution_count": null,
      "outputs": [
        {
          "output_type": "execute_result",
          "data": {
            "text/plain": [
              "'puppy'"
            ],
            "application/vnd.google.colaboratory.intrinsic+json": {
              "type": "string"
            }
          },
          "metadata": {},
          "execution_count": 79
        }
      ]
    },
    {
      "cell_type": "code",
      "source": [
        "person.dog.breed"
      ],
      "metadata": {
        "colab": {
          "base_uri": "https://localhost:8080/",
          "height": 35
        },
        "id": "ZxTb3rkAns7o",
        "outputId": "954fd191-056c-4c21-b85e-63b633ece274"
      },
      "execution_count": null,
      "outputs": [
        {
          "output_type": "execute_result",
          "data": {
            "text/plain": [
              "'german'"
            ],
            "application/vnd.google.colaboratory.intrinsic+json": {
              "type": "string"
            }
          },
          "metadata": {},
          "execution_count": 80
        }
      ]
    },
    {
      "cell_type": "code",
      "source": [
        "person.dog.bark()"
      ],
      "metadata": {
        "colab": {
          "base_uri": "https://localhost:8080/"
        },
        "id": "p1l3hM0anwFZ",
        "outputId": "21612018-1fd3-480d-ae23-58f09d5ab8da"
      },
      "execution_count": null,
      "outputs": [
        {
          "output_type": "stream",
          "name": "stdout",
          "text": [
            "woof\n"
          ]
        }
      ]
    },
    {
      "cell_type": "code",
      "source": [
        "person.say_the_dog_to_jump()"
      ],
      "metadata": {
        "colab": {
          "base_uri": "https://localhost:8080/"
        },
        "id": "iBDwGx0Cnx2J",
        "outputId": "3c13a8df-855c-45d0-a677-2d68423c3cdc"
      },
      "execution_count": null,
      "outputs": [
        {
          "output_type": "stream",
          "name": "stdout",
          "text": [
            "The puppy has jumped\n"
          ]
        }
      ]
    },
    {
      "cell_type": "code",
      "source": [],
      "metadata": {
        "id": "Vs7RiKdlohJX"
      },
      "execution_count": null,
      "outputs": []
    },
    {
      "cell_type": "code",
      "source": [],
      "metadata": {
        "id": "UmRKIV2LohG5"
      },
      "execution_count": null,
      "outputs": []
    },
    {
      "cell_type": "code",
      "source": [
        "class Device:\n",
        "\n",
        "    def __init__(self, name):\n",
        "        self.name = name\n",
        "\n",
        "    def power_on(self):\n",
        "        print(f\"The device: {self.name} has been turned on.\")\n",
        "\n",
        "    def power_off(self):\n",
        "        print(f\"The device: {self.name} has been turned off.\")"
      ],
      "metadata": {
        "id": "ETyFknZRohEk"
      },
      "execution_count": null,
      "outputs": []
    },
    {
      "cell_type": "code",
      "source": [
        "class Laptop(Device):\n",
        "\n",
        "    def __init__(self):\n",
        "        super().__init__(name=\"Laptop\")\n",
        "\n",
        "class SmartPhone(Device):\n",
        "\n",
        "    def __init__(self):\n",
        "        super().__init__(name=\"SmartPhone\")"
      ],
      "metadata": {
        "id": "JLn2AnoNog_9"
      },
      "execution_count": null,
      "outputs": []
    },
    {
      "cell_type": "code",
      "source": [
        "mobile = SmartPhone()\n",
        "\n",
        "laptop = Laptop()"
      ],
      "metadata": {
        "id": "Dm6sZEcVog9Y"
      },
      "execution_count": null,
      "outputs": []
    },
    {
      "cell_type": "code",
      "source": [
        "mobile.power_on()\n",
        "mobile.power_off()"
      ],
      "metadata": {
        "colab": {
          "base_uri": "https://localhost:8080/"
        },
        "id": "zU9kb9hXoJYW",
        "outputId": "9dc2b4b8-bf12-41d4-c329-fd60ad1cdd2c"
      },
      "execution_count": null,
      "outputs": [
        {
          "output_type": "stream",
          "name": "stdout",
          "text": [
            "The device: SmartPhone has been turned on.\n",
            "The device: SmartPhone has been turned off.\n"
          ]
        }
      ]
    },
    {
      "cell_type": "code",
      "source": [],
      "metadata": {
        "id": "EVqUntIpp7P8"
      },
      "execution_count": null,
      "outputs": []
    },
    {
      "cell_type": "code",
      "source": [],
      "metadata": {
        "id": "mXzZBr3yp7N3"
      },
      "execution_count": null,
      "outputs": []
    },
    {
      "cell_type": "code",
      "source": [],
      "metadata": {
        "id": "auP3NC1Ap7Ln"
      },
      "execution_count": null,
      "outputs": []
    },
    {
      "cell_type": "code",
      "source": [
        "def calculate_sum(a, b, *others, **keyothers):\n",
        "    summation = a + b\n",
        "    for other in others:\n",
        "        summation += other\n",
        "    for keyother in keyothers.values():\n",
        "        summation += keyother\n",
        "    return summation"
      ],
      "metadata": {
        "id": "P3U4G2V0p7I8"
      },
      "execution_count": null,
      "outputs": []
    },
    {
      "cell_type": "code",
      "source": [
        "calculate_sum(1, 2, 3, 4, c=10)"
      ],
      "metadata": {
        "colab": {
          "base_uri": "https://localhost:8080/"
        },
        "id": "WMnrTpU7p7Gf",
        "outputId": "8810a0ea-a49a-4e23-8233-953757eb2be0"
      },
      "execution_count": null,
      "outputs": [
        {
          "output_type": "execute_result",
          "data": {
            "text/plain": [
              "20"
            ]
          },
          "metadata": {},
          "execution_count": 88
        }
      ]
    },
    {
      "cell_type": "code",
      "source": [
        "calculate_sum(1, 2, 8, 10, 12)"
      ],
      "metadata": {
        "colab": {
          "base_uri": "https://localhost:8080/"
        },
        "id": "JpWyiVkKpZHS",
        "outputId": "85238902-6ff6-4dd4-e4ad-09c3515aa322"
      },
      "execution_count": null,
      "outputs": [
        {
          "output_type": "execute_result",
          "data": {
            "text/plain": [
              "33"
            ]
          },
          "metadata": {},
          "execution_count": 89
        }
      ]
    },
    {
      "cell_type": "code",
      "source": [
        "calculate_sum(5, 6, \"5\")"
      ],
      "metadata": {
        "colab": {
          "base_uri": "https://localhost:8080/",
          "height": 288
        },
        "id": "5Gl6qj-trfTW",
        "outputId": "8d6460a3-3dfe-47e1-81d1-4a6f7980c6ce"
      },
      "execution_count": null,
      "outputs": [
        {
          "output_type": "error",
          "ename": "TypeError",
          "evalue": "ignored",
          "traceback": [
            "\u001b[0;31m---------------------------------------------------------------------------\u001b[0m",
            "\u001b[0;31mTypeError\u001b[0m                                 Traceback (most recent call last)",
            "\u001b[0;32m<ipython-input-95-4c234b4e2bc6>\u001b[0m in \u001b[0;36m<cell line: 1>\u001b[0;34m()\u001b[0m\n\u001b[0;32m----> 1\u001b[0;31m \u001b[0mcalculate_sum\u001b[0m\u001b[0;34m(\u001b[0m\u001b[0;36m5\u001b[0m\u001b[0;34m,\u001b[0m \u001b[0;36m6\u001b[0m\u001b[0;34m,\u001b[0m \u001b[0;34m\"5\"\u001b[0m\u001b[0;34m)\u001b[0m\u001b[0;34m\u001b[0m\u001b[0;34m\u001b[0m\u001b[0m\n\u001b[0m",
            "\u001b[0;32m<ipython-input-87-767ed7eb09a0>\u001b[0m in \u001b[0;36mcalculate_sum\u001b[0;34m(a, b, *others, **keyothers)\u001b[0m\n\u001b[1;32m      2\u001b[0m     \u001b[0msummation\u001b[0m \u001b[0;34m=\u001b[0m \u001b[0ma\u001b[0m \u001b[0;34m+\u001b[0m \u001b[0mb\u001b[0m\u001b[0;34m\u001b[0m\u001b[0;34m\u001b[0m\u001b[0m\n\u001b[1;32m      3\u001b[0m     \u001b[0;32mfor\u001b[0m \u001b[0mother\u001b[0m \u001b[0;32min\u001b[0m \u001b[0mothers\u001b[0m\u001b[0;34m:\u001b[0m\u001b[0;34m\u001b[0m\u001b[0;34m\u001b[0m\u001b[0m\n\u001b[0;32m----> 4\u001b[0;31m         \u001b[0msummation\u001b[0m \u001b[0;34m+=\u001b[0m \u001b[0mother\u001b[0m\u001b[0;34m\u001b[0m\u001b[0;34m\u001b[0m\u001b[0m\n\u001b[0m\u001b[1;32m      5\u001b[0m     \u001b[0;32mfor\u001b[0m \u001b[0mkeyother\u001b[0m \u001b[0;32min\u001b[0m \u001b[0mkeyothers\u001b[0m\u001b[0;34m.\u001b[0m\u001b[0mvalues\u001b[0m\u001b[0;34m(\u001b[0m\u001b[0;34m)\u001b[0m\u001b[0;34m:\u001b[0m\u001b[0;34m\u001b[0m\u001b[0;34m\u001b[0m\u001b[0m\n\u001b[1;32m      6\u001b[0m         \u001b[0msummation\u001b[0m \u001b[0;34m+=\u001b[0m \u001b[0mkeyother\u001b[0m\u001b[0;34m\u001b[0m\u001b[0;34m\u001b[0m\u001b[0m\n",
            "\u001b[0;31mTypeError\u001b[0m: unsupported operand type(s) for +=: 'int' and 'str'"
          ]
        }
      ]
    },
    {
      "cell_type": "code",
      "source": [
        "try:\n",
        "    calculate_sum(5, 6, \"5\")\n",
        "except:\n",
        "    print(\"An exception has been occured\")"
      ],
      "metadata": {
        "colab": {
          "base_uri": "https://localhost:8080/"
        },
        "id": "_7o1f8H_qbG3",
        "outputId": "2c442a17-e4ad-41a4-ff67-67a3d9f199c1"
      },
      "execution_count": null,
      "outputs": [
        {
          "output_type": "stream",
          "name": "stdout",
          "text": [
            "An exception has been occured\n"
          ]
        }
      ]
    },
    {
      "cell_type": "code",
      "source": [
        "try:\n",
        "    calculate_sum(5, 6, \"5\")\n",
        "except Exception:\n",
        "    print(\"The general Exception has been handled\")\n",
        "except KeyError:\n",
        "    print(\"A KeyError exception has been occured\")\n",
        "except TypeError as error:\n",
        "    print(\"A TypeError exception has been occured\")\n",
        "    print(error)\n",
        "except ValueError:\n",
        "    print(\"A ValueError exception has been occured\")\n",
        "else:\n",
        "    print(\"No exception has been occured\")\n",
        "finally:\n",
        "    print(\"No matter it will be called\")"
      ],
      "metadata": {
        "colab": {
          "base_uri": "https://localhost:8080/"
        },
        "id": "RIyORvQnqeiP",
        "outputId": "bb1a77a2-bde6-40d8-8e62-0fa9e6c58519"
      },
      "execution_count": null,
      "outputs": [
        {
          "output_type": "stream",
          "name": "stdout",
          "text": [
            "The general Exception has been handled\n",
            "No matter it will be called\n"
          ]
        }
      ]
    },
    {
      "cell_type": "code",
      "source": [
        "calculate_sum(5, 6, 10, 12)"
      ],
      "metadata": {
        "colab": {
          "base_uri": "https://localhost:8080/"
        },
        "id": "CEiuWRMPrypu",
        "outputId": "ea2f5225-08d2-45ce-ed8e-a5c41e2a953f"
      },
      "execution_count": null,
      "outputs": [
        {
          "output_type": "execute_result",
          "data": {
            "text/plain": [
              "33"
            ]
          },
          "metadata": {},
          "execution_count": 98
        }
      ]
    },
    {
      "cell_type": "code",
      "source": [],
      "metadata": {
        "id": "bsQVCOqqryle"
      },
      "execution_count": null,
      "outputs": []
    },
    {
      "cell_type": "code",
      "source": [
        "try:\n",
        "    calculate_sum(5, 6, 10, 12)\n",
        "except KeyError:\n",
        "    print(\"A KeyError exception has been occured\")\n",
        "except TypeError as error:\n",
        "    print(\"A TypeError exception has been occured\")\n",
        "    print(error)\n",
        "except ValueError:\n",
        "    print(\"A ValueError exception has been occured\")\n",
        "else:\n",
        "    print(\"No exception has been occured\")\n",
        "finally:\n",
        "    print(\"No matter it will be called\")"
      ],
      "metadata": {
        "colab": {
          "base_uri": "https://localhost:8080/"
        },
        "id": "WSt-9ci7rXSt",
        "outputId": "5d910252-6066-4297-9d0c-bec047ec3619"
      },
      "execution_count": null,
      "outputs": [
        {
          "output_type": "stream",
          "name": "stdout",
          "text": [
            "No exception has been occured\n",
            "No matter it will be called\n"
          ]
        }
      ]
    },
    {
      "cell_type": "code",
      "source": [
        "try:\n",
        "    db_connection = connect_to_db()\n",
        "except DBConnectionError as error:\n",
        "    print(error)\n",
        "else:\n",
        "    data = get_data(db_connection)\n",
        "finally:\n",
        "    print(\"The operation has been finished\")"
      ],
      "metadata": {
        "id": "TiTPCWVYr0Gl"
      },
      "execution_count": null,
      "outputs": []
    },
    {
      "cell_type": "code",
      "source": [],
      "metadata": {
        "id": "_ZVlmXlAs-aV"
      },
      "execution_count": null,
      "outputs": []
    },
    {
      "cell_type": "code",
      "source": [],
      "metadata": {
        "id": "z7Pd84V6s-YP"
      },
      "execution_count": null,
      "outputs": []
    },
    {
      "cell_type": "code",
      "source": [
        "d = {\"name\": \"ali\"}"
      ],
      "metadata": {
        "id": "qbpN3dFBs-VX"
      },
      "execution_count": null,
      "outputs": []
    },
    {
      "cell_type": "code",
      "source": [
        "d[\"name\"]"
      ],
      "metadata": {
        "colab": {
          "base_uri": "https://localhost:8080/",
          "height": 35
        },
        "id": "30OD6ephs-TK",
        "outputId": "cc06e4ba-3bc1-44d9-a03b-b49117e87dbd"
      },
      "execution_count": null,
      "outputs": [
        {
          "output_type": "execute_result",
          "data": {
            "text/plain": [
              "'ali'"
            ],
            "application/vnd.google.colaboratory.intrinsic+json": {
              "type": "string"
            }
          },
          "metadata": {},
          "execution_count": 101
        }
      ]
    },
    {
      "cell_type": "code",
      "source": [
        "default_age = 27\n",
        "\n",
        "name = d[\"name\"]\n",
        "try:\n",
        "    age = d[\"age\"]\n",
        "except KeyError as error:\n",
        "    age = default_age"
      ],
      "metadata": {
        "id": "IUdaGiebs-Q8"
      },
      "execution_count": null,
      "outputs": []
    },
    {
      "cell_type": "code",
      "source": [
        "age"
      ],
      "metadata": {
        "colab": {
          "base_uri": "https://localhost:8080/"
        },
        "id": "1DYW8DXWs-OR",
        "outputId": "70d07f67-7a33-4567-f9bc-0bbe5ebb4ba0"
      },
      "execution_count": null,
      "outputs": [
        {
          "output_type": "execute_result",
          "data": {
            "text/plain": [
              "27"
            ]
          },
          "metadata": {},
          "execution_count": 105
        }
      ]
    },
    {
      "cell_type": "code",
      "source": [],
      "metadata": {
        "id": "O3ZHv2zXuTRV"
      },
      "execution_count": null,
      "outputs": []
    },
    {
      "cell_type": "code",
      "source": [
        "class DBConnectionError(Exception):\n",
        "\n",
        "    def __init__(self, db_username, db_password):\n",
        "        self.db_username = db_username\n",
        "        self.db_password = db_password\n",
        "        message = f\"The connection to the DB with following attributes has been come into problem: Username: {db_username}, Password {db_password}\"\n",
        "        self.message = message\n",
        "        super().__init__(message)"
      ],
      "metadata": {
        "id": "Bz4-u4h_uTPP"
      },
      "execution_count": null,
      "outputs": []
    },
    {
      "cell_type": "code",
      "source": [
        "db_connection_error = DBConnectionError(db_username=\"admin\", db_password=\"admin\")"
      ],
      "metadata": {
        "id": "Cps2TDERuTNM"
      },
      "execution_count": null,
      "outputs": []
    },
    {
      "cell_type": "code",
      "source": [
        "db_connection_error.db_username"
      ],
      "metadata": {
        "colab": {
          "base_uri": "https://localhost:8080/",
          "height": 35
        },
        "id": "KAlKJVrwuTKy",
        "outputId": "ab568fe0-595f-4ae9-aad5-5c36e07e2dc5"
      },
      "execution_count": null,
      "outputs": [
        {
          "output_type": "execute_result",
          "data": {
            "text/plain": [
              "'admin'"
            ],
            "application/vnd.google.colaboratory.intrinsic+json": {
              "type": "string"
            }
          },
          "metadata": {},
          "execution_count": 119
        }
      ]
    },
    {
      "cell_type": "code",
      "source": [
        "db_connection_error.db_password"
      ],
      "metadata": {
        "colab": {
          "base_uri": "https://localhost:8080/",
          "height": 35
        },
        "id": "SMGrxfgduTIt",
        "outputId": "4f4fd58d-118e-4a6a-aca6-bf271c1298c3"
      },
      "execution_count": null,
      "outputs": [
        {
          "output_type": "execute_result",
          "data": {
            "text/plain": [
              "'admin'"
            ],
            "application/vnd.google.colaboratory.intrinsic+json": {
              "type": "string"
            }
          },
          "metadata": {},
          "execution_count": 120
        }
      ]
    },
    {
      "cell_type": "code",
      "source": [
        "db_connection_error.message"
      ],
      "metadata": {
        "colab": {
          "base_uri": "https://localhost:8080/",
          "height": 52
        },
        "id": "7-w83ngeuTF6",
        "outputId": "f55bea34-8d67-45a8-b888-10d0a9c27246"
      },
      "execution_count": null,
      "outputs": [
        {
          "output_type": "execute_result",
          "data": {
            "text/plain": [
              "'The connection to the DB with following attributes has been come into problem: Username: admin, Password admin'"
            ],
            "application/vnd.google.colaboratory.intrinsic+json": {
              "type": "string"
            }
          },
          "metadata": {},
          "execution_count": 121
        }
      ]
    },
    {
      "cell_type": "code",
      "source": [
        "print(db_connection_error)"
      ],
      "metadata": {
        "colab": {
          "base_uri": "https://localhost:8080/"
        },
        "id": "0arty3z_tY7c",
        "outputId": "e02d9244-9701-47d3-e62c-10cf18e0d5c9"
      },
      "execution_count": null,
      "outputs": [
        {
          "output_type": "stream",
          "name": "stdout",
          "text": [
            "The connection to the DB with following attributes has been come into problem: Username: admin, Password admin\n"
          ]
        }
      ]
    },
    {
      "cell_type": "code",
      "source": [
        "def connect_to_db(db_username, db_password):\n",
        "    if db_username != \"admin\":\n",
        "        raise DBConnectionError(db_username=db_username, db_password=db_password)\n",
        "    else:\n",
        "        return True"
      ],
      "metadata": {
        "id": "re7xnIfvvn5V"
      },
      "execution_count": null,
      "outputs": []
    },
    {
      "cell_type": "code",
      "source": [
        "connect_to_db(\"ali\", \"123\")"
      ],
      "metadata": {
        "colab": {
          "base_uri": "https://localhost:8080/",
          "height": 306
        },
        "id": "hfctINbWv728",
        "outputId": "32726203-bd2a-4e2d-824c-5107308d30d9"
      },
      "execution_count": null,
      "outputs": [
        {
          "output_type": "error",
          "ename": "DBConnectionError",
          "evalue": "ignored",
          "traceback": [
            "\u001b[0;31m---------------------------------------------------------------------------\u001b[0m",
            "\u001b[0;31mDBConnectionError\u001b[0m                         Traceback (most recent call last)",
            "\u001b[0;32m<ipython-input-124-e5163e5f0eed>\u001b[0m in \u001b[0;36m<cell line: 1>\u001b[0;34m()\u001b[0m\n\u001b[0;32m----> 1\u001b[0;31m \u001b[0mconnect_to_db\u001b[0m\u001b[0;34m(\u001b[0m\u001b[0;34m\"ali\"\u001b[0m\u001b[0;34m,\u001b[0m \u001b[0;34m\"123\"\u001b[0m\u001b[0;34m)\u001b[0m\u001b[0;34m\u001b[0m\u001b[0;34m\u001b[0m\u001b[0m\n\u001b[0m",
            "\u001b[0;32m<ipython-input-123-b251384604df>\u001b[0m in \u001b[0;36mconnect_to_db\u001b[0;34m(db_username, db_password)\u001b[0m\n\u001b[1;32m      1\u001b[0m \u001b[0;32mdef\u001b[0m \u001b[0mconnect_to_db\u001b[0m\u001b[0;34m(\u001b[0m\u001b[0mdb_username\u001b[0m\u001b[0;34m,\u001b[0m \u001b[0mdb_password\u001b[0m\u001b[0;34m)\u001b[0m\u001b[0;34m:\u001b[0m\u001b[0;34m\u001b[0m\u001b[0;34m\u001b[0m\u001b[0m\n\u001b[1;32m      2\u001b[0m     \u001b[0;32mif\u001b[0m \u001b[0mdb_username\u001b[0m \u001b[0;34m!=\u001b[0m \u001b[0;34m\"admin\"\u001b[0m\u001b[0;34m:\u001b[0m\u001b[0;34m\u001b[0m\u001b[0;34m\u001b[0m\u001b[0m\n\u001b[0;32m----> 3\u001b[0;31m         \u001b[0;32mraise\u001b[0m \u001b[0mDBConnectionError\u001b[0m\u001b[0;34m(\u001b[0m\u001b[0mdb_username\u001b[0m\u001b[0;34m=\u001b[0m\u001b[0mdb_username\u001b[0m\u001b[0;34m,\u001b[0m \u001b[0mdb_password\u001b[0m\u001b[0;34m=\u001b[0m\u001b[0mdb_password\u001b[0m\u001b[0;34m)\u001b[0m\u001b[0;34m\u001b[0m\u001b[0;34m\u001b[0m\u001b[0m\n\u001b[0m\u001b[1;32m      4\u001b[0m     \u001b[0;32melse\u001b[0m\u001b[0;34m:\u001b[0m\u001b[0;34m\u001b[0m\u001b[0;34m\u001b[0m\u001b[0m\n\u001b[1;32m      5\u001b[0m         \u001b[0;32mreturn\u001b[0m \u001b[0;32mTrue\u001b[0m\u001b[0;34m\u001b[0m\u001b[0;34m\u001b[0m\u001b[0m\n",
            "\u001b[0;31mDBConnectionError\u001b[0m: The connection to the DB with following attributes has been come into problem: Username: ali, Password 123"
          ]
        }
      ]
    },
    {
      "cell_type": "code",
      "source": [
        "connect_to_db(\"admin\", \"admin\")"
      ],
      "metadata": {
        "colab": {
          "base_uri": "https://localhost:8080/"
        },
        "id": "IMOq32h-v99f",
        "outputId": "be2d1bb8-c3e4-4108-eba8-5f356acd9412"
      },
      "execution_count": null,
      "outputs": [
        {
          "output_type": "execute_result",
          "data": {
            "text/plain": [
              "True"
            ]
          },
          "metadata": {},
          "execution_count": 125
        }
      ]
    },
    {
      "cell_type": "code",
      "source": [
        "d"
      ],
      "metadata": {
        "colab": {
          "base_uri": "https://localhost:8080/"
        },
        "id": "yilzhwJrwCz0",
        "outputId": "6411ef55-99cb-4f5f-a816-f4a027220c8d"
      },
      "execution_count": null,
      "outputs": [
        {
          "output_type": "execute_result",
          "data": {
            "text/plain": [
              "{'name': 'ali'}"
            ]
          },
          "metadata": {},
          "execution_count": 126
        }
      ]
    },
    {
      "cell_type": "code",
      "source": [
        "default_age = 27\n",
        "\n",
        "name = d[\"name\"]\n",
        "try:\n",
        "    if \"age\" not in d.keys():\n",
        "        raise KeyError(\"The age key is not in the d dictionary.\")\n",
        "except KeyError as error:\n",
        "    age = default_age\n",
        "    print(error)"
      ],
      "metadata": {
        "colab": {
          "base_uri": "https://localhost:8080/"
        },
        "id": "0EtdFa80wMRA",
        "outputId": "b2010da8-30a9-41e6-9fcc-7bc180f93cb9"
      },
      "execution_count": null,
      "outputs": [
        {
          "output_type": "stream",
          "name": "stdout",
          "text": [
            "'The age key is not in the d dictionary.'\n"
          ]
        }
      ]
    },
    {
      "cell_type": "code",
      "source": [
        "age\n"
      ],
      "metadata": {
        "id": "qV4XwPSjwY8P",
        "outputId": "d8a78190-4b05-4e02-906b-3e47b082a484",
        "colab": {
          "base_uri": "https://localhost:8080/"
        }
      },
      "execution_count": null,
      "outputs": [
        {
          "output_type": "execute_result",
          "data": {
            "text/plain": [
              "27"
            ]
          },
          "metadata": {},
          "execution_count": 128
        }
      ]
    },
    {
      "cell_type": "code",
      "source": [],
      "metadata": {
        "id": "FAK6pVEgweV5"
      },
      "execution_count": null,
      "outputs": []
    }
  ]
}